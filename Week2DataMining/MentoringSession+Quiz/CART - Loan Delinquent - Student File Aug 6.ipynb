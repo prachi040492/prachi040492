{
 "cells": [
  {
   "cell_type": "markdown",
   "metadata": {},
   "source": [
    "# Problem Statement"
   ]
  },
  {
   "cell_type": "markdown",
   "metadata": {},
   "source": [
    "Based on the given loan data can we understand the major factors or characteristics of a borrower which makes them to get into delinquent stage.\n",
    "\n",
    "• Delinquency is a major metric in assessing risk as more and more customers getting delinquent means the risk of customers that will default will also increase.\n",
    "\n",
    "• The main objective is to minimize the risk for which you need to build a decision tree model using CART technique that will identify various risk and non-risk attributes of borrower’s to get into delinquent stage"
   ]
  },
  {
   "cell_type": "markdown",
   "metadata": {},
   "source": [
    "# Importing libraries and Loading data"
   ]
  },
  {
   "cell_type": "code",
   "execution_count": 1,
   "metadata": {},
   "outputs": [],
   "source": [
    "import numpy as np\n",
    "import pandas as pd\n",
    "from sklearn.tree import DecisionTreeClassifier"
   ]
  },
  {
   "cell_type": "code",
   "execution_count": 2,
   "metadata": {},
   "outputs": [],
   "source": [
    "ld_df = pd.read_csv(\"Loan Delinquent Dataset.csv\")"
   ]
  },
  {
   "cell_type": "markdown",
   "metadata": {},
   "source": [
    "# Checking the data"
   ]
  },
  {
   "cell_type": "code",
   "execution_count": 3,
   "metadata": {},
   "outputs": [
    {
     "data": {
      "text/html": [
       "<div>\n",
       "<style scoped>\n",
       "    .dataframe tbody tr th:only-of-type {\n",
       "        vertical-align: middle;\n",
       "    }\n",
       "\n",
       "    .dataframe tbody tr th {\n",
       "        vertical-align: top;\n",
       "    }\n",
       "\n",
       "    .dataframe thead th {\n",
       "        text-align: right;\n",
       "    }\n",
       "</style>\n",
       "<table border=\"1\" class=\"dataframe\">\n",
       "  <thead>\n",
       "    <tr style=\"text-align: right;\">\n",
       "      <th></th>\n",
       "      <th>ID</th>\n",
       "      <th>delinquent</th>\n",
       "      <th>Sdelinquent</th>\n",
       "      <th>term</th>\n",
       "      <th>gender</th>\n",
       "      <th>purpose</th>\n",
       "      <th>home_ownership</th>\n",
       "      <th>age</th>\n",
       "      <th>FICO</th>\n",
       "    </tr>\n",
       "  </thead>\n",
       "  <tbody>\n",
       "    <tr>\n",
       "      <th>0</th>\n",
       "      <td>1</td>\n",
       "      <td>Yes</td>\n",
       "      <td>1</td>\n",
       "      <td>36 months</td>\n",
       "      <td>Female</td>\n",
       "      <td>House</td>\n",
       "      <td>Mortgage</td>\n",
       "      <td>&gt;25</td>\n",
       "      <td>300-500</td>\n",
       "    </tr>\n",
       "    <tr>\n",
       "      <th>1</th>\n",
       "      <td>2</td>\n",
       "      <td>No</td>\n",
       "      <td>0</td>\n",
       "      <td>36 months</td>\n",
       "      <td>Female</td>\n",
       "      <td>House</td>\n",
       "      <td>Rent</td>\n",
       "      <td>20-25</td>\n",
       "      <td>&gt;500</td>\n",
       "    </tr>\n",
       "    <tr>\n",
       "      <th>2</th>\n",
       "      <td>3</td>\n",
       "      <td>Yes</td>\n",
       "      <td>1</td>\n",
       "      <td>36 months</td>\n",
       "      <td>Female</td>\n",
       "      <td>House</td>\n",
       "      <td>Rent</td>\n",
       "      <td>&gt;25</td>\n",
       "      <td>300-500</td>\n",
       "    </tr>\n",
       "    <tr>\n",
       "      <th>3</th>\n",
       "      <td>4</td>\n",
       "      <td>Yes</td>\n",
       "      <td>1</td>\n",
       "      <td>36 months</td>\n",
       "      <td>Female</td>\n",
       "      <td>Car</td>\n",
       "      <td>Mortgage</td>\n",
       "      <td>&gt;25</td>\n",
       "      <td>300-500</td>\n",
       "    </tr>\n",
       "    <tr>\n",
       "      <th>4</th>\n",
       "      <td>5</td>\n",
       "      <td>Yes</td>\n",
       "      <td>1</td>\n",
       "      <td>36 months</td>\n",
       "      <td>Female</td>\n",
       "      <td>House</td>\n",
       "      <td>Rent</td>\n",
       "      <td>&gt;25</td>\n",
       "      <td>300-500</td>\n",
       "    </tr>\n",
       "  </tbody>\n",
       "</table>\n",
       "</div>"
      ],
      "text/plain": [
       "   ID delinquent  Sdelinquent       term  gender purpose home_ownership  \\\n",
       "0   1        Yes            1  36 months  Female   House       Mortgage   \n",
       "1   2         No            0  36 months  Female   House           Rent   \n",
       "2   3        Yes            1  36 months  Female   House           Rent   \n",
       "3   4        Yes            1  36 months  Female     Car       Mortgage   \n",
       "4   5        Yes            1  36 months  Female   House           Rent   \n",
       "\n",
       "     age     FICO  \n",
       "0    >25  300-500  \n",
       "1  20-25     >500  \n",
       "2    >25  300-500  \n",
       "3    >25  300-500  \n",
       "4    >25  300-500  "
      ]
     },
     "execution_count": 3,
     "metadata": {},
     "output_type": "execute_result"
    }
   ],
   "source": [
    "ld_df.head()"
   ]
  },
  {
   "cell_type": "markdown",
   "metadata": {},
   "source": [
    "### Dropping unwanted variables"
   ]
  },
  {
   "cell_type": "markdown",
   "metadata": {},
   "source": [
    "Sdelinquent can also be dropped instead of delinquent."
   ]
  },
  {
   "cell_type": "code",
   "execution_count": 4,
   "metadata": {},
   "outputs": [],
   "source": [
    "ld_df=ld_df.drop([\"ID\",\"delinquent\"],axis=1) "
   ]
  },
  {
   "cell_type": "code",
   "execution_count": 5,
   "metadata": {},
   "outputs": [
    {
     "data": {
      "text/html": [
       "<div>\n",
       "<style scoped>\n",
       "    .dataframe tbody tr th:only-of-type {\n",
       "        vertical-align: middle;\n",
       "    }\n",
       "\n",
       "    .dataframe tbody tr th {\n",
       "        vertical-align: top;\n",
       "    }\n",
       "\n",
       "    .dataframe thead th {\n",
       "        text-align: right;\n",
       "    }\n",
       "</style>\n",
       "<table border=\"1\" class=\"dataframe\">\n",
       "  <thead>\n",
       "    <tr style=\"text-align: right;\">\n",
       "      <th></th>\n",
       "      <th>Sdelinquent</th>\n",
       "      <th>term</th>\n",
       "      <th>gender</th>\n",
       "      <th>purpose</th>\n",
       "      <th>home_ownership</th>\n",
       "      <th>age</th>\n",
       "      <th>FICO</th>\n",
       "    </tr>\n",
       "  </thead>\n",
       "  <tbody>\n",
       "    <tr>\n",
       "      <th>0</th>\n",
       "      <td>1</td>\n",
       "      <td>36 months</td>\n",
       "      <td>Female</td>\n",
       "      <td>House</td>\n",
       "      <td>Mortgage</td>\n",
       "      <td>&gt;25</td>\n",
       "      <td>300-500</td>\n",
       "    </tr>\n",
       "    <tr>\n",
       "      <th>1</th>\n",
       "      <td>0</td>\n",
       "      <td>36 months</td>\n",
       "      <td>Female</td>\n",
       "      <td>House</td>\n",
       "      <td>Rent</td>\n",
       "      <td>20-25</td>\n",
       "      <td>&gt;500</td>\n",
       "    </tr>\n",
       "    <tr>\n",
       "      <th>2</th>\n",
       "      <td>1</td>\n",
       "      <td>36 months</td>\n",
       "      <td>Female</td>\n",
       "      <td>House</td>\n",
       "      <td>Rent</td>\n",
       "      <td>&gt;25</td>\n",
       "      <td>300-500</td>\n",
       "    </tr>\n",
       "    <tr>\n",
       "      <th>3</th>\n",
       "      <td>1</td>\n",
       "      <td>36 months</td>\n",
       "      <td>Female</td>\n",
       "      <td>Car</td>\n",
       "      <td>Mortgage</td>\n",
       "      <td>&gt;25</td>\n",
       "      <td>300-500</td>\n",
       "    </tr>\n",
       "    <tr>\n",
       "      <th>4</th>\n",
       "      <td>1</td>\n",
       "      <td>36 months</td>\n",
       "      <td>Female</td>\n",
       "      <td>House</td>\n",
       "      <td>Rent</td>\n",
       "      <td>&gt;25</td>\n",
       "      <td>300-500</td>\n",
       "    </tr>\n",
       "  </tbody>\n",
       "</table>\n",
       "</div>"
      ],
      "text/plain": [
       "   Sdelinquent       term  gender purpose home_ownership    age     FICO\n",
       "0            1  36 months  Female   House       Mortgage    >25  300-500\n",
       "1            0  36 months  Female   House           Rent  20-25     >500\n",
       "2            1  36 months  Female   House           Rent    >25  300-500\n",
       "3            1  36 months  Female     Car       Mortgage    >25  300-500\n",
       "4            1  36 months  Female   House           Rent    >25  300-500"
      ]
     },
     "execution_count": 5,
     "metadata": {},
     "output_type": "execute_result"
    }
   ],
   "source": [
    "ld_df.head()"
   ]
  },
  {
   "cell_type": "code",
   "execution_count": 6,
   "metadata": {},
   "outputs": [
    {
     "data": {
      "text/plain": [
       "(11548, 7)"
      ]
     },
     "execution_count": 6,
     "metadata": {},
     "output_type": "execute_result"
    }
   ],
   "source": [
    "ld_df.shape"
   ]
  },
  {
   "cell_type": "code",
   "execution_count": 7,
   "metadata": {},
   "outputs": [
    {
     "name": "stdout",
     "output_type": "stream",
     "text": [
      "<class 'pandas.core.frame.DataFrame'>\n",
      "RangeIndex: 11548 entries, 0 to 11547\n",
      "Data columns (total 7 columns):\n",
      " #   Column          Non-Null Count  Dtype \n",
      "---  ------          --------------  ----- \n",
      " 0   Sdelinquent     11548 non-null  int64 \n",
      " 1   term            11548 non-null  object\n",
      " 2   gender          11548 non-null  object\n",
      " 3   purpose         11548 non-null  object\n",
      " 4   home_ownership  11548 non-null  object\n",
      " 5   age             11548 non-null  object\n",
      " 6   FICO            11548 non-null  object\n",
      "dtypes: int64(1), object(6)\n",
      "memory usage: 631.7+ KB\n"
     ]
    }
   ],
   "source": [
    "ld_df.info() "
   ]
  },
  {
   "cell_type": "markdown",
   "metadata": {},
   "source": [
    "many columns are of type object i.e. strings. These need to be converted to ordinal type"
   ]
  },
  {
   "cell_type": "markdown",
   "metadata": {},
   "source": [
    "### Geting unique counts of all Objects"
   ]
  },
  {
   "cell_type": "code",
   "execution_count": 8,
   "metadata": {},
   "outputs": [
    {
     "name": "stdout",
     "output_type": "stream",
     "text": [
      "term \n",
      " 36 months    10589\n",
      "60 months      959\n",
      "Name: term, dtype: int64\n",
      "\n",
      "\n",
      "gender \n",
      " Male      6555\n",
      "Female    4993\n",
      "Name: gender, dtype: int64\n",
      "\n",
      "\n",
      "purpose \n",
      " House       6892\n",
      "Car         2080\n",
      "Other        928\n",
      "Personal     892\n",
      "Wedding      408\n",
      "Medical      266\n",
      "other         82\n",
      "Name: purpose, dtype: int64\n",
      "\n",
      "\n",
      "home_ownership \n",
      " Mortgage    5461\n",
      "Rent        5216\n",
      "Own          871\n",
      "Name: home_ownership, dtype: int64\n",
      "\n",
      "\n",
      "age \n",
      " 20-25    5888\n",
      ">25      5660\n",
      "Name: age, dtype: int64\n",
      "\n",
      "\n",
      "FICO \n",
      " 300-500    6370\n",
      ">500       5178\n",
      "Name: FICO, dtype: int64\n"
     ]
    }
   ],
   "source": [
    "print('term \\n',ld_df.term.value_counts())\n",
    "print('\\n')\n",
    "print('gender \\n',ld_df.gender.value_counts())\n",
    "print('\\n')\n",
    "print('purpose \\n',ld_df.purpose.value_counts())\n",
    "print('\\n')\n",
    "print('home_ownership \\n',ld_df.home_ownership.value_counts())\n",
    "print('\\n')\n",
    "print('age \\n',ld_df.age.value_counts())\n",
    "print('\\n')\n",
    "print('FICO \\n',ld_df.FICO.value_counts())"
   ]
  },
  {
   "cell_type": "markdown",
   "metadata": {},
   "source": [
    "### Note:\n",
    "Decision tree in Python can take only numerical / categorical colums. It cannot take string / object types. \n",
    "\n",
    "The following code loops through each column and checks if the column type is object then converts those columns into categorical with each distinct value becoming a category."
   ]
  },
  {
   "cell_type": "code",
   "execution_count": 9,
   "metadata": {},
   "outputs": [
    {
     "name": "stdout",
     "output_type": "stream",
     "text": [
      "\n",
      "\n",
      "feature: term\n",
      "['36 months', '60 months']\n",
      "Categories (2, object): ['36 months', '60 months']\n",
      "[0 1]\n",
      "\n",
      "\n",
      "feature: gender\n",
      "['Female', 'Male']\n",
      "Categories (2, object): ['Female', 'Male']\n",
      "[0 1]\n",
      "\n",
      "\n",
      "feature: purpose\n",
      "['House', 'Car', 'Other', 'Personal', 'Wedding', 'Medical', 'other']\n",
      "Categories (7, object): ['Car', 'House', 'Medical', 'Other', 'Personal', 'Wedding', 'other']\n",
      "[1 0 3 4 5 2 6]\n",
      "\n",
      "\n",
      "feature: home_ownership\n",
      "['Mortgage', 'Rent', 'Own']\n",
      "Categories (3, object): ['Mortgage', 'Own', 'Rent']\n",
      "[0 2 1]\n",
      "\n",
      "\n",
      "feature: age\n",
      "['>25', '20-25']\n",
      "Categories (2, object): ['20-25', '>25']\n",
      "[1 0]\n",
      "\n",
      "\n",
      "feature: FICO\n",
      "['300-500', '>500']\n",
      "Categories (2, object): ['300-500', '>500']\n",
      "[0 1]\n"
     ]
    }
   ],
   "source": [
    "for feature in ld_df.columns: \n",
    "    if ld_df[feature].dtype == 'object': \n",
    "        print('\\n')\n",
    "        print('feature:',feature)\n",
    "        print(pd.Categorical(ld_df[feature].unique()))\n",
    "        print(pd.Categorical(ld_df[feature].unique()).codes)\n",
    "        ld_df[feature] = pd.Categorical(ld_df[feature]).codes"
   ]
  },
  {
   "cell_type": "markdown",
   "metadata": {},
   "source": [
    "For each feature, look at the 2nd and 4th row to get the encoding mappings. Do not look at the line starting with 'Categories'"
   ]
  },
  {
   "cell_type": "markdown",
   "metadata": {},
   "source": [
    "#### Comparing the unique counts from above"
   ]
  },
  {
   "cell_type": "code",
   "execution_count": 10,
   "metadata": {},
   "outputs": [
    {
     "name": "stdout",
     "output_type": "stream",
     "text": [
      "term \n",
      " 0    10589\n",
      "1      959\n",
      "Name: term, dtype: int64\n",
      "\n",
      "\n",
      "gender \n",
      " 1    6555\n",
      "0    4993\n",
      "Name: gender, dtype: int64\n",
      "\n",
      "\n",
      "purpose \n",
      " 1    6892\n",
      "0    2080\n",
      "3     928\n",
      "4     892\n",
      "5     408\n",
      "2     266\n",
      "6      82\n",
      "Name: purpose, dtype: int64\n",
      "\n",
      "\n",
      "home_ownership \n",
      " 0    5461\n",
      "2    5216\n",
      "1     871\n",
      "Name: home_ownership, dtype: int64\n",
      "\n",
      "\n",
      "age \n",
      " 0    5888\n",
      "1    5660\n",
      "Name: age, dtype: int64\n",
      "\n",
      "\n",
      "FICO \n",
      " 0    6370\n",
      "1    5178\n",
      "Name: FICO, dtype: int64\n"
     ]
    }
   ],
   "source": [
    "print('term \\n',ld_df.term.value_counts())\n",
    "print('\\n')\n",
    "print('gender \\n',ld_df.gender.value_counts())\n",
    "print('\\n')\n",
    "print('purpose \\n',ld_df.purpose.value_counts())\n",
    "print('\\n')\n",
    "print('home_ownership \\n',ld_df.home_ownership.value_counts())\n",
    "print('\\n')\n",
    "print('age \\n',ld_df.age.value_counts())\n",
    "print('\\n')\n",
    "print('FICO \\n',ld_df.FICO.value_counts())"
   ]
  },
  {
   "cell_type": "code",
   "execution_count": 11,
   "metadata": {},
   "outputs": [
    {
     "name": "stdout",
     "output_type": "stream",
     "text": [
      "<class 'pandas.core.frame.DataFrame'>\n",
      "RangeIndex: 11548 entries, 0 to 11547\n",
      "Data columns (total 7 columns):\n",
      " #   Column          Non-Null Count  Dtype\n",
      "---  ------          --------------  -----\n",
      " 0   Sdelinquent     11548 non-null  int64\n",
      " 1   term            11548 non-null  int8 \n",
      " 2   gender          11548 non-null  int8 \n",
      " 3   purpose         11548 non-null  int8 \n",
      " 4   home_ownership  11548 non-null  int8 \n",
      " 5   age             11548 non-null  int8 \n",
      " 6   FICO            11548 non-null  int8 \n",
      "dtypes: int64(1), int8(6)\n",
      "memory usage: 158.0 KB\n"
     ]
    }
   ],
   "source": [
    "ld_df.info()"
   ]
  },
  {
   "cell_type": "code",
   "execution_count": 12,
   "metadata": {},
   "outputs": [
    {
     "data": {
      "text/html": [
       "<div>\n",
       "<style scoped>\n",
       "    .dataframe tbody tr th:only-of-type {\n",
       "        vertical-align: middle;\n",
       "    }\n",
       "\n",
       "    .dataframe tbody tr th {\n",
       "        vertical-align: top;\n",
       "    }\n",
       "\n",
       "    .dataframe thead th {\n",
       "        text-align: right;\n",
       "    }\n",
       "</style>\n",
       "<table border=\"1\" class=\"dataframe\">\n",
       "  <thead>\n",
       "    <tr style=\"text-align: right;\">\n",
       "      <th></th>\n",
       "      <th>Sdelinquent</th>\n",
       "      <th>term</th>\n",
       "      <th>gender</th>\n",
       "      <th>purpose</th>\n",
       "      <th>home_ownership</th>\n",
       "      <th>age</th>\n",
       "      <th>FICO</th>\n",
       "    </tr>\n",
       "  </thead>\n",
       "  <tbody>\n",
       "    <tr>\n",
       "      <th>0</th>\n",
       "      <td>1</td>\n",
       "      <td>0</td>\n",
       "      <td>0</td>\n",
       "      <td>1</td>\n",
       "      <td>0</td>\n",
       "      <td>1</td>\n",
       "      <td>0</td>\n",
       "    </tr>\n",
       "    <tr>\n",
       "      <th>1</th>\n",
       "      <td>0</td>\n",
       "      <td>0</td>\n",
       "      <td>0</td>\n",
       "      <td>1</td>\n",
       "      <td>2</td>\n",
       "      <td>0</td>\n",
       "      <td>1</td>\n",
       "    </tr>\n",
       "    <tr>\n",
       "      <th>2</th>\n",
       "      <td>1</td>\n",
       "      <td>0</td>\n",
       "      <td>0</td>\n",
       "      <td>1</td>\n",
       "      <td>2</td>\n",
       "      <td>1</td>\n",
       "      <td>0</td>\n",
       "    </tr>\n",
       "    <tr>\n",
       "      <th>3</th>\n",
       "      <td>1</td>\n",
       "      <td>0</td>\n",
       "      <td>0</td>\n",
       "      <td>0</td>\n",
       "      <td>0</td>\n",
       "      <td>1</td>\n",
       "      <td>0</td>\n",
       "    </tr>\n",
       "    <tr>\n",
       "      <th>4</th>\n",
       "      <td>1</td>\n",
       "      <td>0</td>\n",
       "      <td>0</td>\n",
       "      <td>1</td>\n",
       "      <td>2</td>\n",
       "      <td>1</td>\n",
       "      <td>0</td>\n",
       "    </tr>\n",
       "  </tbody>\n",
       "</table>\n",
       "</div>"
      ],
      "text/plain": [
       "   Sdelinquent  term  gender  purpose  home_ownership  age  FICO\n",
       "0            1     0       0        1               0    1     0\n",
       "1            0     0       0        1               2    0     1\n",
       "2            1     0       0        1               2    1     0\n",
       "3            1     0       0        0               0    1     0\n",
       "4            1     0       0        1               2    1     0"
      ]
     },
     "execution_count": 12,
     "metadata": {},
     "output_type": "execute_result"
    }
   ],
   "source": [
    "ld_df.head()"
   ]
  },
  {
   "cell_type": "markdown",
   "metadata": {},
   "source": [
    "Label Encoding has been done and all columns are converted to number"
   ]
  },
  {
   "cell_type": "markdown",
   "metadata": {},
   "source": [
    "### Proportion of 1s and 0s"
   ]
  },
  {
   "cell_type": "code",
   "execution_count": 17,
   "metadata": {},
   "outputs": [
    {
     "data": {
      "text/plain": [
       "1    7721\n",
       "0    3827\n",
       "Name: Sdelinquent, dtype: int64"
      ]
     },
     "execution_count": 17,
     "metadata": {},
     "output_type": "execute_result"
    }
   ],
   "source": [
    "ld_df.Sdelinquent.value_counts()"
   ]
  },
  {
   "cell_type": "code",
   "execution_count": 18,
   "metadata": {},
   "outputs": [
    {
     "name": "stdout",
     "output_type": "stream",
     "text": [
      "1    7721\n",
      "0    3827\n",
      "Name: Sdelinquent, dtype: int64\n",
      "%1s 0.668600623484586\n",
      "%0s 0.3313993765154139\n"
     ]
    }
   ],
   "source": [
    "print(ld_df.Sdelinquent.value_counts())\n",
    "print('%1s',7721/(7721+3827))\n",
    "print('%0s',3827/(7721+3827))"
   ]
  },
  {
   "cell_type": "markdown",
   "metadata": {},
   "source": [
    "### Extracting the target column into separate vectors for training set and test set"
   ]
  },
  {
   "cell_type": "code",
   "execution_count": 19,
   "metadata": {},
   "outputs": [
    {
     "data": {
      "text/html": [
       "<div>\n",
       "<style scoped>\n",
       "    .dataframe tbody tr th:only-of-type {\n",
       "        vertical-align: middle;\n",
       "    }\n",
       "\n",
       "    .dataframe tbody tr th {\n",
       "        vertical-align: top;\n",
       "    }\n",
       "\n",
       "    .dataframe thead th {\n",
       "        text-align: right;\n",
       "    }\n",
       "</style>\n",
       "<table border=\"1\" class=\"dataframe\">\n",
       "  <thead>\n",
       "    <tr style=\"text-align: right;\">\n",
       "      <th></th>\n",
       "      <th>term</th>\n",
       "      <th>gender</th>\n",
       "      <th>purpose</th>\n",
       "      <th>home_ownership</th>\n",
       "      <th>age</th>\n",
       "      <th>FICO</th>\n",
       "    </tr>\n",
       "  </thead>\n",
       "  <tbody>\n",
       "    <tr>\n",
       "      <th>0</th>\n",
       "      <td>0</td>\n",
       "      <td>0</td>\n",
       "      <td>1</td>\n",
       "      <td>0</td>\n",
       "      <td>1</td>\n",
       "      <td>0</td>\n",
       "    </tr>\n",
       "    <tr>\n",
       "      <th>1</th>\n",
       "      <td>0</td>\n",
       "      <td>0</td>\n",
       "      <td>1</td>\n",
       "      <td>2</td>\n",
       "      <td>0</td>\n",
       "      <td>1</td>\n",
       "    </tr>\n",
       "    <tr>\n",
       "      <th>2</th>\n",
       "      <td>0</td>\n",
       "      <td>0</td>\n",
       "      <td>1</td>\n",
       "      <td>2</td>\n",
       "      <td>1</td>\n",
       "      <td>0</td>\n",
       "    </tr>\n",
       "    <tr>\n",
       "      <th>3</th>\n",
       "      <td>0</td>\n",
       "      <td>0</td>\n",
       "      <td>0</td>\n",
       "      <td>0</td>\n",
       "      <td>1</td>\n",
       "      <td>0</td>\n",
       "    </tr>\n",
       "    <tr>\n",
       "      <th>4</th>\n",
       "      <td>0</td>\n",
       "      <td>0</td>\n",
       "      <td>1</td>\n",
       "      <td>2</td>\n",
       "      <td>1</td>\n",
       "      <td>0</td>\n",
       "    </tr>\n",
       "  </tbody>\n",
       "</table>\n",
       "</div>"
      ],
      "text/plain": [
       "   term  gender  purpose  home_ownership  age  FICO\n",
       "0     0       0        1               0    1     0\n",
       "1     0       0        1               2    0     1\n",
       "2     0       0        1               2    1     0\n",
       "3     0       0        0               0    1     0\n",
       "4     0       0        1               2    1     0"
      ]
     },
     "execution_count": 19,
     "metadata": {},
     "output_type": "execute_result"
    }
   ],
   "source": [
    "X = ld_df.drop(\"Sdelinquent\", axis=1)\n",
    "\n",
    "y = ld_df.pop(\"Sdelinquent\")\n",
    "\n",
    "X.head()"
   ]
  },
  {
   "cell_type": "markdown",
   "metadata": {},
   "source": [
    "### Splitting data into training and test set"
   ]
  },
  {
   "cell_type": "code",
   "execution_count": 34,
   "metadata": {},
   "outputs": [],
   "source": [
    "from sklearn.model_selection import train_test_split\n",
    "\n",
    "X_train, X_test, train_labels, test_labels = train_test_split(X, y, test_size=0.30, random_state=1)"
   ]
  },
  {
   "cell_type": "markdown",
   "metadata": {},
   "source": [
    "### Checking the dimensions of the training and test data"
   ]
  },
  {
   "cell_type": "code",
   "execution_count": 62,
   "metadata": {},
   "outputs": [
    {
     "name": "stdout",
     "output_type": "stream",
     "text": [
      "X_train (8083, 6)\n",
      "X_test (3465, 6)\n",
      "train_labels (8083,)\n",
      "test_labels (3465,)\n",
      "Total Obs 11548\n"
     ]
    }
   ],
   "source": [
    "print('X_train',X_train.shape)\n",
    "print('X_test',X_test.shape)\n",
    "print('train_labels',train_labels.shape)\n",
    "print('test_labels',test_labels.shape)\n",
    "print('Total Obs',8083+3465)"
   ]
  },
  {
   "cell_type": "code",
   "execution_count": 63,
   "metadata": {},
   "outputs": [
    {
     "data": {
      "text/html": [
       "<div>\n",
       "<style scoped>\n",
       "    .dataframe tbody tr th:only-of-type {\n",
       "        vertical-align: middle;\n",
       "    }\n",
       "\n",
       "    .dataframe tbody tr th {\n",
       "        vertical-align: top;\n",
       "    }\n",
       "\n",
       "    .dataframe thead th {\n",
       "        text-align: right;\n",
       "    }\n",
       "</style>\n",
       "<table border=\"1\" class=\"dataframe\">\n",
       "  <thead>\n",
       "    <tr style=\"text-align: right;\">\n",
       "      <th></th>\n",
       "      <th>term</th>\n",
       "      <th>gender</th>\n",
       "      <th>purpose</th>\n",
       "      <th>home_ownership</th>\n",
       "      <th>age</th>\n",
       "      <th>FICO</th>\n",
       "    </tr>\n",
       "  </thead>\n",
       "  <tbody>\n",
       "    <tr>\n",
       "      <th>2012</th>\n",
       "      <td>0</td>\n",
       "      <td>1</td>\n",
       "      <td>1</td>\n",
       "      <td>2</td>\n",
       "      <td>1</td>\n",
       "      <td>1</td>\n",
       "    </tr>\n",
       "    <tr>\n",
       "      <th>8668</th>\n",
       "      <td>1</td>\n",
       "      <td>1</td>\n",
       "      <td>1</td>\n",
       "      <td>2</td>\n",
       "      <td>1</td>\n",
       "      <td>1</td>\n",
       "    </tr>\n",
       "    <tr>\n",
       "      <th>3854</th>\n",
       "      <td>0</td>\n",
       "      <td>1</td>\n",
       "      <td>1</td>\n",
       "      <td>0</td>\n",
       "      <td>1</td>\n",
       "      <td>1</td>\n",
       "    </tr>\n",
       "    <tr>\n",
       "      <th>3396</th>\n",
       "      <td>0</td>\n",
       "      <td>0</td>\n",
       "      <td>1</td>\n",
       "      <td>0</td>\n",
       "      <td>1</td>\n",
       "      <td>0</td>\n",
       "    </tr>\n",
       "    <tr>\n",
       "      <th>8981</th>\n",
       "      <td>0</td>\n",
       "      <td>0</td>\n",
       "      <td>1</td>\n",
       "      <td>2</td>\n",
       "      <td>1</td>\n",
       "      <td>1</td>\n",
       "    </tr>\n",
       "    <tr>\n",
       "      <th>...</th>\n",
       "      <td>...</td>\n",
       "      <td>...</td>\n",
       "      <td>...</td>\n",
       "      <td>...</td>\n",
       "      <td>...</td>\n",
       "      <td>...</td>\n",
       "    </tr>\n",
       "    <tr>\n",
       "      <th>7813</th>\n",
       "      <td>0</td>\n",
       "      <td>0</td>\n",
       "      <td>1</td>\n",
       "      <td>1</td>\n",
       "      <td>1</td>\n",
       "      <td>1</td>\n",
       "    </tr>\n",
       "    <tr>\n",
       "      <th>10955</th>\n",
       "      <td>0</td>\n",
       "      <td>1</td>\n",
       "      <td>5</td>\n",
       "      <td>0</td>\n",
       "      <td>1</td>\n",
       "      <td>1</td>\n",
       "    </tr>\n",
       "    <tr>\n",
       "      <th>905</th>\n",
       "      <td>0</td>\n",
       "      <td>1</td>\n",
       "      <td>1</td>\n",
       "      <td>0</td>\n",
       "      <td>0</td>\n",
       "      <td>0</td>\n",
       "    </tr>\n",
       "    <tr>\n",
       "      <th>5192</th>\n",
       "      <td>0</td>\n",
       "      <td>1</td>\n",
       "      <td>1</td>\n",
       "      <td>0</td>\n",
       "      <td>0</td>\n",
       "      <td>0</td>\n",
       "    </tr>\n",
       "    <tr>\n",
       "      <th>235</th>\n",
       "      <td>0</td>\n",
       "      <td>1</td>\n",
       "      <td>3</td>\n",
       "      <td>2</td>\n",
       "      <td>0</td>\n",
       "      <td>0</td>\n",
       "    </tr>\n",
       "  </tbody>\n",
       "</table>\n",
       "<p>8083 rows × 6 columns</p>\n",
       "</div>"
      ],
      "text/plain": [
       "       term  gender  purpose  home_ownership  age  FICO\n",
       "2012      0       1        1               2    1     1\n",
       "8668      1       1        1               2    1     1\n",
       "3854      0       1        1               0    1     1\n",
       "3396      0       0        1               0    1     0\n",
       "8981      0       0        1               2    1     1\n",
       "...     ...     ...      ...             ...  ...   ...\n",
       "7813      0       0        1               1    1     1\n",
       "10955     0       1        5               0    1     1\n",
       "905       0       1        1               0    0     0\n",
       "5192      0       1        1               0    0     0\n",
       "235       0       1        3               2    0     0\n",
       "\n",
       "[8083 rows x 6 columns]"
      ]
     },
     "execution_count": 63,
     "metadata": {},
     "output_type": "execute_result"
    }
   ],
   "source": [
    "X_train"
   ]
  },
  {
   "cell_type": "code",
   "execution_count": 64,
   "metadata": {},
   "outputs": [
    {
     "data": {
      "text/html": [
       "<div>\n",
       "<style scoped>\n",
       "    .dataframe tbody tr th:only-of-type {\n",
       "        vertical-align: middle;\n",
       "    }\n",
       "\n",
       "    .dataframe tbody tr th {\n",
       "        vertical-align: top;\n",
       "    }\n",
       "\n",
       "    .dataframe thead th {\n",
       "        text-align: right;\n",
       "    }\n",
       "</style>\n",
       "<table border=\"1\" class=\"dataframe\">\n",
       "  <thead>\n",
       "    <tr style=\"text-align: right;\">\n",
       "      <th></th>\n",
       "      <th>term</th>\n",
       "      <th>gender</th>\n",
       "      <th>purpose</th>\n",
       "      <th>home_ownership</th>\n",
       "      <th>age</th>\n",
       "      <th>FICO</th>\n",
       "    </tr>\n",
       "  </thead>\n",
       "  <tbody>\n",
       "    <tr>\n",
       "      <th>5468</th>\n",
       "      <td>0</td>\n",
       "      <td>1</td>\n",
       "      <td>1</td>\n",
       "      <td>0</td>\n",
       "      <td>0</td>\n",
       "      <td>0</td>\n",
       "    </tr>\n",
       "    <tr>\n",
       "      <th>2814</th>\n",
       "      <td>0</td>\n",
       "      <td>0</td>\n",
       "      <td>1</td>\n",
       "      <td>2</td>\n",
       "      <td>1</td>\n",
       "      <td>0</td>\n",
       "    </tr>\n",
       "    <tr>\n",
       "      <th>9072</th>\n",
       "      <td>0</td>\n",
       "      <td>0</td>\n",
       "      <td>1</td>\n",
       "      <td>0</td>\n",
       "      <td>1</td>\n",
       "      <td>1</td>\n",
       "    </tr>\n",
       "    <tr>\n",
       "      <th>649</th>\n",
       "      <td>0</td>\n",
       "      <td>0</td>\n",
       "      <td>1</td>\n",
       "      <td>2</td>\n",
       "      <td>1</td>\n",
       "      <td>1</td>\n",
       "    </tr>\n",
       "    <tr>\n",
       "      <th>4076</th>\n",
       "      <td>0</td>\n",
       "      <td>0</td>\n",
       "      <td>1</td>\n",
       "      <td>2</td>\n",
       "      <td>0</td>\n",
       "      <td>0</td>\n",
       "    </tr>\n",
       "    <tr>\n",
       "      <th>...</th>\n",
       "      <td>...</td>\n",
       "      <td>...</td>\n",
       "      <td>...</td>\n",
       "      <td>...</td>\n",
       "      <td>...</td>\n",
       "      <td>...</td>\n",
       "    </tr>\n",
       "    <tr>\n",
       "      <th>4567</th>\n",
       "      <td>0</td>\n",
       "      <td>1</td>\n",
       "      <td>1</td>\n",
       "      <td>1</td>\n",
       "      <td>1</td>\n",
       "      <td>1</td>\n",
       "    </tr>\n",
       "    <tr>\n",
       "      <th>8698</th>\n",
       "      <td>0</td>\n",
       "      <td>1</td>\n",
       "      <td>1</td>\n",
       "      <td>0</td>\n",
       "      <td>0</td>\n",
       "      <td>0</td>\n",
       "    </tr>\n",
       "    <tr>\n",
       "      <th>7093</th>\n",
       "      <td>0</td>\n",
       "      <td>0</td>\n",
       "      <td>0</td>\n",
       "      <td>0</td>\n",
       "      <td>1</td>\n",
       "      <td>0</td>\n",
       "    </tr>\n",
       "    <tr>\n",
       "      <th>8685</th>\n",
       "      <td>0</td>\n",
       "      <td>1</td>\n",
       "      <td>0</td>\n",
       "      <td>0</td>\n",
       "      <td>0</td>\n",
       "      <td>0</td>\n",
       "    </tr>\n",
       "    <tr>\n",
       "      <th>1047</th>\n",
       "      <td>0</td>\n",
       "      <td>1</td>\n",
       "      <td>3</td>\n",
       "      <td>2</td>\n",
       "      <td>1</td>\n",
       "      <td>1</td>\n",
       "    </tr>\n",
       "  </tbody>\n",
       "</table>\n",
       "<p>3465 rows × 6 columns</p>\n",
       "</div>"
      ],
      "text/plain": [
       "      term  gender  purpose  home_ownership  age  FICO\n",
       "5468     0       1        1               0    0     0\n",
       "2814     0       0        1               2    1     0\n",
       "9072     0       0        1               0    1     1\n",
       "649      0       0        1               2    1     1\n",
       "4076     0       0        1               2    0     0\n",
       "...    ...     ...      ...             ...  ...   ...\n",
       "4567     0       1        1               1    1     1\n",
       "8698     0       1        1               0    0     0\n",
       "7093     0       0        0               0    1     0\n",
       "8685     0       1        0               0    0     0\n",
       "1047     0       1        3               2    1     1\n",
       "\n",
       "[3465 rows x 6 columns]"
      ]
     },
     "execution_count": 64,
     "metadata": {},
     "output_type": "execute_result"
    }
   ],
   "source": [
    "X_test"
   ]
  },
  {
   "cell_type": "code",
   "execution_count": 65,
   "metadata": {},
   "outputs": [
    {
     "data": {
      "text/plain": [
       "2012     0\n",
       "8668     0\n",
       "3854     1\n",
       "3396     1\n",
       "8981     0\n",
       "        ..\n",
       "7813     0\n",
       "10955    1\n",
       "905      1\n",
       "5192     1\n",
       "235      1\n",
       "Name: Sdelinquent, Length: 8083, dtype: int64"
      ]
     },
     "execution_count": 65,
     "metadata": {},
     "output_type": "execute_result"
    }
   ],
   "source": [
    "train_labels"
   ]
  },
  {
   "cell_type": "code",
   "execution_count": 66,
   "metadata": {},
   "outputs": [
    {
     "data": {
      "text/plain": [
       "5468    1\n",
       "2814    1\n",
       "9072    0\n",
       "649     1\n",
       "4076    1\n",
       "       ..\n",
       "4567    0\n",
       "8698    1\n",
       "7093    1\n",
       "8685    1\n",
       "1047    1\n",
       "Name: Sdelinquent, Length: 3465, dtype: int64"
      ]
     },
     "execution_count": 66,
     "metadata": {},
     "output_type": "execute_result"
    }
   ],
   "source": [
    "test_labels"
   ]
  },
  {
   "cell_type": "markdown",
   "metadata": {},
   "source": [
    "### Building a Decision Tree Classifier"
   ]
  },
  {
   "cell_type": "code",
   "execution_count": 46,
   "metadata": {},
   "outputs": [],
   "source": [
    "# Initialise a Decision Tree Classifier\n",
    "dt_model = DecisionTreeClassifier(criterion= 'gini')"
   ]
  },
  {
   "cell_type": "code",
   "execution_count": 47,
   "metadata": {},
   "outputs": [
    {
     "data": {
      "text/plain": [
       "DecisionTreeClassifier()"
      ]
     },
     "execution_count": 47,
     "metadata": {},
     "output_type": "execute_result"
    }
   ],
   "source": [
    "# Fit the model\n",
    "dt_model.fit(X_train, train_labels)"
   ]
  },
  {
   "cell_type": "code",
   "execution_count": 48,
   "metadata": {},
   "outputs": [],
   "source": [
    "from sklearn import tree\n",
    "\n",
    "train_char_label = ['No', 'Yes']\n",
    "ld_Tree_File = open('ld_Tree_File.dot','w')\n",
    "dot_data = tree.export_graphviz(dt_model, \n",
    "                                out_file=ld_Tree_File, \n",
    "                                feature_names = list(X_train), \n",
    "                                class_names = list(train_char_label))\n",
    "\n",
    "ld_Tree_File.close()\n"
   ]
  },
  {
   "cell_type": "markdown",
   "metadata": {},
   "source": [
    "The above code will save a .dot file in your working directory.  \n",
    "WebGraphviz is Graphviz in the Browser.   \n",
    "Copy paste the contents of the file into the link below to get the visualization     \n",
    "http://webgraphviz.com/"
   ]
  },
  {
   "cell_type": "markdown",
   "metadata": {},
   "source": [
    "### Variable Importance"
   ]
  },
  {
   "cell_type": "code",
   "execution_count": 49,
   "metadata": {},
   "outputs": [
    {
     "name": "stdout",
     "output_type": "stream",
     "text": [
      "                     Imp\n",
      "FICO            0.393915\n",
      "term            0.370052\n",
      "gender          0.158664\n",
      "age             0.055813\n",
      "purpose         0.010924\n",
      "home_ownership  0.010633\n"
     ]
    }
   ],
   "source": [
    "print (pd.DataFrame(dt_model.feature_importances_, columns = [\"Imp\"], index = X_train.columns).sort_values('Imp',ascending=False))\n"
   ]
  },
  {
   "cell_type": "markdown",
   "metadata": {},
   "source": [
    "### Predicting Test Data"
   ]
  },
  {
   "cell_type": "code",
   "execution_count": 50,
   "metadata": {},
   "outputs": [
    {
     "data": {
      "text/plain": [
       "array([1, 1, 0, ..., 1, 1, 1], dtype=int64)"
      ]
     },
     "execution_count": 50,
     "metadata": {},
     "output_type": "execute_result"
    }
   ],
   "source": [
    "y_predict = dt_model.predict(X_test)\n",
    "y_predict"
   ]
  },
  {
   "cell_type": "code",
   "execution_count": 51,
   "metadata": {},
   "outputs": [
    {
     "data": {
      "text/plain": [
       "(3465,)"
      ]
     },
     "execution_count": 51,
     "metadata": {},
     "output_type": "execute_result"
    }
   ],
   "source": [
    "y_predict.shape"
   ]
  },
  {
   "cell_type": "markdown",
   "metadata": {},
   "source": [
    "# Regularising the Decision Tree"
   ]
  },
  {
   "cell_type": "markdown",
   "metadata": {},
   "source": [
    "### Adding Tuning Parameters"
   ]
  },
  {
   "cell_type": "code",
   "execution_count": 52,
   "metadata": {},
   "outputs": [
    {
     "data": {
      "text/plain": [
       "DecisionTreeClassifier(max_depth=30, min_samples_leaf=100,\n",
       "                       min_samples_split=1000, random_state=1)"
      ]
     },
     "execution_count": 52,
     "metadata": {},
     "output_type": "execute_result"
    }
   ],
   "source": [
    "reg_dt_model = DecisionTreeClassifier(criterion = 'gini', max_depth = 30,min_samples_leaf=100,min_samples_split=1000, random_state=1)\n",
    "reg_dt_model.fit(X_train, train_labels)"
   ]
  },
  {
   "cell_type": "markdown",
   "metadata": {},
   "source": [
    "### Generating New Tree"
   ]
  },
  {
   "cell_type": "code",
   "execution_count": 53,
   "metadata": {},
   "outputs": [],
   "source": [
    "ld_tree_regularized = open('ld_tree_regularized.dot','w')\n",
    "dot_data = tree.export_graphviz(reg_dt_model, out_file= ld_tree_regularized , feature_names = list(X_train), class_names = list(train_char_label))\n",
    "\n",
    "ld_tree_regularized.close()\n",
    "dot_data"
   ]
  },
  {
   "cell_type": "markdown",
   "metadata": {},
   "source": [
    "### Variable Importance"
   ]
  },
  {
   "cell_type": "code",
   "execution_count": 54,
   "metadata": {},
   "outputs": [
    {
     "name": "stdout",
     "output_type": "stream",
     "text": [
      "                     Imp\n",
      "FICO            0.424274\n",
      "term            0.339141\n",
      "gender          0.169328\n",
      "age             0.060114\n",
      "home_ownership  0.003659\n",
      "purpose         0.003483\n"
     ]
    }
   ],
   "source": [
    "print(pd.DataFrame(reg_dt_model.feature_importances_, columns= ['Imp'], index = X_train.columns).sort_values('Imp', ascending=False))\n"
   ]
  },
  {
   "cell_type": "markdown",
   "metadata": {},
   "source": [
    "### Predicting on Training and Test dataset"
   ]
  },
  {
   "cell_type": "code",
   "execution_count": 55,
   "metadata": {},
   "outputs": [],
   "source": [
    "# Complete the below code\n",
    "ytrain_predict = reg_dt_model.predict(X_train)\n",
    "ytest_predict = reg_dt_model.predict(X_test)"
   ]
  },
  {
   "cell_type": "code",
   "execution_count": 56,
   "metadata": {},
   "outputs": [
    {
     "name": "stdout",
     "output_type": "stream",
     "text": [
      "ytrain_predict (8083,)\n",
      "ytest_predict (3465,)\n"
     ]
    }
   ],
   "source": [
    "print('ytrain_predict',ytrain_predict.shape)\n",
    "print('ytest_predict',ytest_predict.shape)"
   ]
  },
  {
   "cell_type": "markdown",
   "metadata": {},
   "source": [
    "### Getting the Predicted Classes"
   ]
  },
  {
   "cell_type": "code",
   "execution_count": 57,
   "metadata": {},
   "outputs": [
    {
     "data": {
      "text/plain": [
       "array([1, 1, 0, ..., 1, 1, 1], dtype=int64)"
      ]
     },
     "execution_count": 57,
     "metadata": {},
     "output_type": "execute_result"
    }
   ],
   "source": [
    "ytest_predict"
   ]
  },
  {
   "cell_type": "markdown",
   "metadata": {},
   "source": [
    "### Getting the Predicted Probabilities"
   ]
  },
  {
   "cell_type": "code",
   "execution_count": 58,
   "metadata": {},
   "outputs": [
    {
     "data": {
      "text/plain": [
       "array([[0.12938331, 0.87061669],\n",
       "       [0.        , 1.        ],\n",
       "       [0.75366876, 0.24633124],\n",
       "       ...,\n",
       "       [0.        , 1.        ],\n",
       "       [0.16071429, 0.83928571],\n",
       "       [0.22881356, 0.77118644]])"
      ]
     },
     "execution_count": 58,
     "metadata": {},
     "output_type": "execute_result"
    }
   ],
   "source": [
    "ytest_predict_prob=reg_dt_model.predict_proba(X_test)\n",
    "ytest_predict_prob"
   ]
  },
  {
   "cell_type": "code",
   "execution_count": 59,
   "metadata": {},
   "outputs": [
    {
     "data": {
      "text/html": [
       "<div>\n",
       "<style scoped>\n",
       "    .dataframe tbody tr th:only-of-type {\n",
       "        vertical-align: middle;\n",
       "    }\n",
       "\n",
       "    .dataframe tbody tr th {\n",
       "        vertical-align: top;\n",
       "    }\n",
       "\n",
       "    .dataframe thead th {\n",
       "        text-align: right;\n",
       "    }\n",
       "</style>\n",
       "<table border=\"1\" class=\"dataframe\">\n",
       "  <thead>\n",
       "    <tr style=\"text-align: right;\">\n",
       "      <th></th>\n",
       "      <th>0</th>\n",
       "      <th>1</th>\n",
       "    </tr>\n",
       "  </thead>\n",
       "  <tbody>\n",
       "    <tr>\n",
       "      <th>0</th>\n",
       "      <td>0.129383</td>\n",
       "      <td>0.870617</td>\n",
       "    </tr>\n",
       "    <tr>\n",
       "      <th>1</th>\n",
       "      <td>0.000000</td>\n",
       "      <td>1.000000</td>\n",
       "    </tr>\n",
       "    <tr>\n",
       "      <th>2</th>\n",
       "      <td>0.753669</td>\n",
       "      <td>0.246331</td>\n",
       "    </tr>\n",
       "    <tr>\n",
       "      <th>3</th>\n",
       "      <td>0.753669</td>\n",
       "      <td>0.246331</td>\n",
       "    </tr>\n",
       "    <tr>\n",
       "      <th>4</th>\n",
       "      <td>0.136986</td>\n",
       "      <td>0.863014</td>\n",
       "    </tr>\n",
       "  </tbody>\n",
       "</table>\n",
       "</div>"
      ],
      "text/plain": [
       "          0         1\n",
       "0  0.129383  0.870617\n",
       "1  0.000000  1.000000\n",
       "2  0.753669  0.246331\n",
       "3  0.753669  0.246331\n",
       "4  0.136986  0.863014"
      ]
     },
     "execution_count": 59,
     "metadata": {},
     "output_type": "execute_result"
    }
   ],
   "source": [
    " pd.DataFrame(ytest_predict_prob).head()"
   ]
  },
  {
   "cell_type": "markdown",
   "metadata": {},
   "source": [
    "# Model Evaluation"
   ]
  },
  {
   "cell_type": "markdown",
   "metadata": {},
   "source": [
    "## Measuring AUC-ROC Curve"
   ]
  },
  {
   "cell_type": "code",
   "execution_count": 60,
   "metadata": {},
   "outputs": [],
   "source": [
    "import matplotlib.pyplot as plt"
   ]
  },
  {
   "cell_type": "markdown",
   "metadata": {},
   "source": [
    "### AUC and ROC for the training data"
   ]
  },
  {
   "cell_type": "code",
   "execution_count": 61,
   "metadata": {},
   "outputs": [
    {
     "name": "stdout",
     "output_type": "stream",
     "text": [
      "AUC: 0.879\n"
     ]
    },
    {
     "data": {
      "image/png": "[encoded data removed]",
      "text/plain": [
       "<Figure size 432x288 with 1 Axes>"
      ]
     },
     "metadata": {
      "needs_background": "light"
     },
     "output_type": "display_data"
    }
   ],
   "source": [
    "# predict probabilities\n",
    "probs = reg_dt_model.predict_proba(X_train)\n",
    "# keep probabilities for the positive outcome only\n",
    "probs = probs[:, 1]\n",
    "# calculate AUC\n",
    "from sklearn.metrics import roc_auc_score\n",
    "auc = roc_auc_score(train_labels, probs)\n",
    "print('AUC: %.3f' % auc)\n",
    "# calculate roc curve\n",
    "from sklearn.metrics import roc_curve\n",
    "fpr, tpr, thresholds = roc_curve(train_labels, probs)\n",
    "plt.plot([0, 1], [0, 1], linestyle='--')\n",
    "# plot the roc curve for the model\n",
    "plt.plot(fpr, tpr, marker='.')\n",
    "# show the plot\n",
    "plt.show()"
   ]
  },
  {
   "cell_type": "markdown",
   "metadata": {},
   "source": [
    "### AUC and ROC for the test data"
   ]
  },
  {
   "cell_type": "code",
   "execution_count": null,
   "metadata": {},
   "outputs": [],
   "source": [
    "# predict probabilities\n",
    "\n",
    "# keep probabilities for the positive outcome only\n",
    "\n",
    "# calculate AUC\n",
    "\n",
    "# calculate roc curve\n",
    "\n",
    "# plot the roc curve for the model\n",
    "\n",
    "# show the plot\n",
    "\n",
    "\n"
   ]
  },
  {
   "cell_type": "markdown",
   "metadata": {},
   "source": [
    "## Confusion Matrix for the training data"
   ]
  },
  {
   "cell_type": "code",
   "execution_count": null,
   "metadata": {},
   "outputs": [],
   "source": [
    "from sklearn.metrics import classification_report,confusion_matrix"
   ]
  },
  {
   "cell_type": "code",
   "execution_count": null,
   "metadata": {},
   "outputs": [],
   "source": [
    "\n",
    "\n"
   ]
  },
  {
   "cell_type": "code",
   "execution_count": null,
   "metadata": {},
   "outputs": [],
   "source": [
    "#Train Data Accuracy\n",
    "reg_dt_model.score(X_train,train_labels) "
   ]
  },
  {
   "cell_type": "code",
   "execution_count": null,
   "metadata": {},
   "outputs": [],
   "source": [
    "print((1985+4742)/(1985+650+706+4742))"
   ]
  },
  {
   "cell_type": "code",
   "execution_count": null,
   "metadata": {},
   "outputs": [],
   "source": [
    "print(classification_report(train_labels, ytrain_predict))"
   ]
  },
  {
   "cell_type": "markdown",
   "metadata": {},
   "source": [
    "## Confusion Matrix for test data"
   ]
  },
  {
   "cell_type": "code",
   "execution_count": null,
   "metadata": {},
   "outputs": [],
   "source": [
    "confusion_matrix(test_labels, ytest_predict)"
   ]
  },
  {
   "cell_type": "code",
   "execution_count": null,
   "metadata": {},
   "outputs": [],
   "source": [
    "#Test Data Accuracy\n",
    "reg_dt_model.score(X_test,test_labels)"
   ]
  },
  {
   "cell_type": "code",
   "execution_count": null,
   "metadata": {},
   "outputs": [],
   "source": [
    "print((922+1941)/(922+270+332+1941))"
   ]
  },
  {
   "cell_type": "code",
   "execution_count": null,
   "metadata": {},
   "outputs": [],
   "source": [
    "print(classification_report(test_labels, ytest_predict))"
   ]
  },
  {
   "cell_type": "markdown",
   "metadata": {},
   "source": [
    "# Conclusion"
   ]
  },
  {
   "cell_type": "markdown",
   "metadata": {},
   "source": [
    "Accuracy on the Training Data: 83%  \n",
    "Accuracy on the Test Data: 82%"
   ]
  },
  {
   "cell_type": "markdown",
   "metadata": {},
   "source": [
    "AUC on the Training Data: 87.9%  \n",
    "AUC on the Test: 88.1%"
   ]
  },
  {
   "cell_type": "markdown",
   "metadata": {},
   "source": [
    "Accuracy, AUC, Precision and Recall for test data is almost inline with training data.  \n",
    "This proves no overfitting or underfitting has happened, and overall the model is a good model for classification"
   ]
  },
  {
   "cell_type": "markdown",
   "metadata": {},
   "source": [
    "FICO, term and gender (in same order of preference) are the most important variables in determining if a borrower will get into a delinquent stage "
   ]
  }
 ],
 "metadata": {
  "kernelspec": {
   "display_name": "Python 3",
   "language": "python",
   "name": "python3"
  },
  "language_info": {
   "codemirror_mode": {
    "name": "ipython",
    "version": 3
   },
   "file_extension": ".py",
   "mimetype": "text/x-python",
   "name": "python",
   "nbconvert_exporter": "python",
   "pygments_lexer": "ipython3",
   "version": "3.8.8"
  },
  "toc": {
   "base_numbering": 1,
   "nav_menu": {},
   "number_sections": true,
   "sideBar": true,
   "skip_h1_title": false,
   "title_cell": "Table of Contents",
   "title_sidebar": "Contents",
   "toc_cell": false,
   "toc_position": {},
   "toc_section_display": true,
   "toc_window_display": false
  },
  "varInspector": {
   "cols": {
    "lenName": 16,
    "lenType": 16,
    "lenVar": 40
   },
   "kernels_config": {
    "python": {
     "delete_cmd_postfix": "",
     "delete_cmd_prefix": "del ",
     "library": "var_list.py",
     "varRefreshCmd": "print(var_dic_list())"
    },
    "r": {
     "delete_cmd_postfix": ") ",
     "delete_cmd_prefix": "rm(",
     "library": "var_list.r",
     "varRefreshCmd": "cat(var_dic_list()) "
    }
   },
   "types_to_exclude": [
    "module",
    "function",
    "builtin_function_or_method",
    "instance",
    "_Feature"
   ],
   "window_display": false
  }
 },
 "nbformat": 4,
 "nbformat_minor": 2
}
