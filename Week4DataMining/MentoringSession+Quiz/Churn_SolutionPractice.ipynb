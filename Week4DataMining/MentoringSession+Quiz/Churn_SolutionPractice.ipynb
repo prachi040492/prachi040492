{
 "cells": [
  {
   "cell_type": "code",
   "execution_count": 2,
   "id": "respective-morning",
   "metadata": {},
   "outputs": [],
   "source": [
    "import pandas as pd\n",
    "import numpy as np\n",
    "import seaborn as sns\n",
    "import matplotlib.pyplot as plt\n",
    "from sklearn.neural_network import MLPClassifier"
   ]
  },
  {
   "cell_type": "code",
   "execution_count": 3,
   "id": "engaged-basin",
   "metadata": {},
   "outputs": [],
   "source": [
    "churn_df =  pd.read_csv('Churn_Modelling.csv')"
   ]
  },
  {
   "cell_type": "code",
   "execution_count": 4,
   "id": "damaged-singapore",
   "metadata": {},
   "outputs": [
    {
     "data": {
      "text/html": [
       "<div>\n",
       "<style scoped>\n",
       "    .dataframe tbody tr th:only-of-type {\n",
       "        vertical-align: middle;\n",
       "    }\n",
       "\n",
       "    .dataframe tbody tr th {\n",
       "        vertical-align: top;\n",
       "    }\n",
       "\n",
       "    .dataframe thead th {\n",
       "        text-align: right;\n",
       "    }\n",
       "</style>\n",
       "<table border=\"1\" class=\"dataframe\">\n",
       "  <thead>\n",
       "    <tr style=\"text-align: right;\">\n",
       "      <th></th>\n",
       "      <th>RowNumber</th>\n",
       "      <th>CustomerId</th>\n",
       "      <th>Surname</th>\n",
       "      <th>Credit Score</th>\n",
       "      <th>Geography</th>\n",
       "      <th>Gender</th>\n",
       "      <th>Age</th>\n",
       "      <th>Tenure</th>\n",
       "      <th>Balance</th>\n",
       "      <th>Num of Dependents</th>\n",
       "      <th>Has CrCard</th>\n",
       "      <th>Is Active Member</th>\n",
       "      <th>Estimated Salary</th>\n",
       "      <th>Exited</th>\n",
       "    </tr>\n",
       "  </thead>\n",
       "  <tbody>\n",
       "    <tr>\n",
       "      <th>0</th>\n",
       "      <td>1</td>\n",
       "      <td>15634602</td>\n",
       "      <td>Hargrave</td>\n",
       "      <td>619.0</td>\n",
       "      <td>France</td>\n",
       "      <td>Female</td>\n",
       "      <td>42</td>\n",
       "      <td>2.0</td>\n",
       "      <td>3000</td>\n",
       "      <td>1</td>\n",
       "      <td>1.0</td>\n",
       "      <td>1.0</td>\n",
       "      <td>101348.88</td>\n",
       "      <td>1</td>\n",
       "    </tr>\n",
       "    <tr>\n",
       "      <th>1</th>\n",
       "      <td>2</td>\n",
       "      <td>15647311</td>\n",
       "      <td>Hill</td>\n",
       "      <td>608.0</td>\n",
       "      <td>Spain</td>\n",
       "      <td>Female</td>\n",
       "      <td>41</td>\n",
       "      <td>1.0</td>\n",
       "      <td>83807.86</td>\n",
       "      <td>1</td>\n",
       "      <td>0.0</td>\n",
       "      <td>1.0</td>\n",
       "      <td>112542.58</td>\n",
       "      <td>0</td>\n",
       "    </tr>\n",
       "    <tr>\n",
       "      <th>2</th>\n",
       "      <td>3</td>\n",
       "      <td>15619304</td>\n",
       "      <td>Onio</td>\n",
       "      <td>502.0</td>\n",
       "      <td>France</td>\n",
       "      <td>Female</td>\n",
       "      <td>42</td>\n",
       "      <td>8.0</td>\n",
       "      <td>159660.8</td>\n",
       "      <td>3</td>\n",
       "      <td>1.0</td>\n",
       "      <td>0.0</td>\n",
       "      <td>113931.57</td>\n",
       "      <td>1</td>\n",
       "    </tr>\n",
       "    <tr>\n",
       "      <th>3</th>\n",
       "      <td>4</td>\n",
       "      <td>15701354</td>\n",
       "      <td>Boni</td>\n",
       "      <td>699.0</td>\n",
       "      <td>France</td>\n",
       "      <td>Female</td>\n",
       "      <td>39</td>\n",
       "      <td>1.0</td>\n",
       "      <td>3000</td>\n",
       "      <td>2</td>\n",
       "      <td>0.0</td>\n",
       "      <td>0.0</td>\n",
       "      <td>93826.63</td>\n",
       "      <td>0</td>\n",
       "    </tr>\n",
       "    <tr>\n",
       "      <th>4</th>\n",
       "      <td>5</td>\n",
       "      <td>15737888</td>\n",
       "      <td>Mitchell</td>\n",
       "      <td>850.0</td>\n",
       "      <td>Spain</td>\n",
       "      <td>Female</td>\n",
       "      <td>43</td>\n",
       "      <td>2.0</td>\n",
       "      <td>125510.82</td>\n",
       "      <td>1</td>\n",
       "      <td>1.0</td>\n",
       "      <td>1.0</td>\n",
       "      <td>79084.10</td>\n",
       "      <td>0</td>\n",
       "    </tr>\n",
       "  </tbody>\n",
       "</table>\n",
       "</div>"
      ],
      "text/plain": [
       "   RowNumber  CustomerId   Surname  Credit Score Geography  Gender Age  \\\n",
       "0          1    15634602  Hargrave         619.0    France  Female  42   \n",
       "1          2    15647311      Hill         608.0     Spain  Female  41   \n",
       "2          3    15619304      Onio         502.0    France  Female  42   \n",
       "3          4    15701354      Boni         699.0    France  Female  39   \n",
       "4          5    15737888  Mitchell         850.0     Spain  Female  43   \n",
       "\n",
       "   Tenure    Balance  Num of Dependents  Has CrCard  Is Active Member  \\\n",
       "0     2.0       3000                  1         1.0               1.0   \n",
       "1     1.0   83807.86                  1         0.0               1.0   \n",
       "2     8.0   159660.8                  3         1.0               0.0   \n",
       "3     1.0       3000                  2         0.0               0.0   \n",
       "4     2.0  125510.82                  1         1.0               1.0   \n",
       "\n",
       "   Estimated Salary  Exited  \n",
       "0         101348.88       1  \n",
       "1         112542.58       0  \n",
       "2         113931.57       1  \n",
       "3          93826.63       0  \n",
       "4          79084.10       0  "
      ]
     },
     "execution_count": 4,
     "metadata": {},
     "output_type": "execute_result"
    }
   ],
   "source": [
    "churn_df.head()"
   ]
  },
  {
   "cell_type": "code",
   "execution_count": 5,
   "id": "surprised-roommate",
   "metadata": {},
   "outputs": [
    {
     "data": {
      "text/plain": [
       "(7124, 14)"
      ]
     },
     "execution_count": 5,
     "metadata": {},
     "output_type": "execute_result"
    }
   ],
   "source": [
    "churn_df.shape"
   ]
  },
  {
   "cell_type": "code",
   "execution_count": 6,
   "id": "formed-welsh",
   "metadata": {},
   "outputs": [
    {
     "name": "stdout",
     "output_type": "stream",
     "text": [
      "<class 'pandas.core.frame.DataFrame'>\n",
      "RangeIndex: 7124 entries, 0 to 7123\n",
      "Data columns (total 14 columns):\n",
      " #   Column             Non-Null Count  Dtype  \n",
      "---  ------             --------------  -----  \n",
      " 0   RowNumber          7124 non-null   int64  \n",
      " 1   CustomerId         7124 non-null   int64  \n",
      " 2   Surname            7124 non-null   object \n",
      " 3   Credit Score       7118 non-null   float64\n",
      " 4   Geography          7120 non-null   object \n",
      " 5   Gender             7116 non-null   object \n",
      " 6   Age                7124 non-null   object \n",
      " 7   Tenure             7110 non-null   float64\n",
      " 8   Balance            7121 non-null   object \n",
      " 9   Num of Dependents  7124 non-null   int64  \n",
      " 10  Has CrCard         7111 non-null   float64\n",
      " 11  Is Active Member   7114 non-null   float64\n",
      " 12  Estimated Salary   7123 non-null   float64\n",
      " 13  Exited             7124 non-null   int64  \n",
      "dtypes: float64(5), int64(4), object(5)\n",
      "memory usage: 779.3+ KB\n"
     ]
    }
   ],
   "source": [
    "churn_df.info()"
   ]
  },
  {
   "cell_type": "code",
   "execution_count": 7,
   "id": "reflected-sudan",
   "metadata": {},
   "outputs": [
    {
     "data": {
      "text/plain": [
       "array(['3000', '83807.86', '159660.8', ..., '137145.12', '88381.21',\n",
       "       '75075.31'], dtype=object)"
      ]
     },
     "execution_count": 7,
     "metadata": {},
     "output_type": "execute_result"
    }
   ],
   "source": [
    "churn_df.Balance.unique()\n",
    "# churn_df = churn_df.apply(pd.to_numeric)"
   ]
  },
  {
   "cell_type": "code",
   "execution_count": 8,
   "id": "chinese-providence",
   "metadata": {},
   "outputs": [
    {
     "data": {
      "text/plain": [
       "RowNumber             0\n",
       "CustomerId            0\n",
       "Surname               0\n",
       "Credit Score          6\n",
       "Geography             4\n",
       "Gender                8\n",
       "Age                   0\n",
       "Tenure               14\n",
       "Balance               3\n",
       "Num of Dependents     0\n",
       "Has CrCard           13\n",
       "Is Active Member     10\n",
       "Estimated Salary      1\n",
       "Exited                0\n",
       "dtype: int64"
      ]
     },
     "execution_count": 8,
     "metadata": {},
     "output_type": "execute_result"
    }
   ],
   "source": [
    "churn_df.isnull().sum()"
   ]
  },
  {
   "cell_type": "code",
   "execution_count": 9,
   "id": "presidential-plaza",
   "metadata": {},
   "outputs": [
    {
     "data": {
      "text/plain": [
       "0"
      ]
     },
     "execution_count": 9,
     "metadata": {},
     "output_type": "execute_result"
    }
   ],
   "source": [
    "churn_df.duplicated().sum()"
   ]
  },
  {
   "cell_type": "code",
   "execution_count": 10,
   "id": "fifteen-poverty",
   "metadata": {},
   "outputs": [],
   "source": [
    "churn_df.drop(['RowNumber','CustomerId','Surname'], axis=1, inplace=True)"
   ]
  },
  {
   "cell_type": "code",
   "execution_count": 11,
   "id": "forbidden-nebraska",
   "metadata": {},
   "outputs": [
    {
     "data": {
      "text/html": [
       "<div>\n",
       "<style scoped>\n",
       "    .dataframe tbody tr th:only-of-type {\n",
       "        vertical-align: middle;\n",
       "    }\n",
       "\n",
       "    .dataframe tbody tr th {\n",
       "        vertical-align: top;\n",
       "    }\n",
       "\n",
       "    .dataframe thead th {\n",
       "        text-align: right;\n",
       "    }\n",
       "</style>\n",
       "<table border=\"1\" class=\"dataframe\">\n",
       "  <thead>\n",
       "    <tr style=\"text-align: right;\">\n",
       "      <th></th>\n",
       "      <th>Credit Score</th>\n",
       "      <th>Geography</th>\n",
       "      <th>Gender</th>\n",
       "      <th>Age</th>\n",
       "      <th>Tenure</th>\n",
       "      <th>Balance</th>\n",
       "      <th>Num of Dependents</th>\n",
       "      <th>Has CrCard</th>\n",
       "      <th>Is Active Member</th>\n",
       "      <th>Estimated Salary</th>\n",
       "      <th>Exited</th>\n",
       "    </tr>\n",
       "  </thead>\n",
       "  <tbody>\n",
       "    <tr>\n",
       "      <th>0</th>\n",
       "      <td>619.0</td>\n",
       "      <td>France</td>\n",
       "      <td>Female</td>\n",
       "      <td>42</td>\n",
       "      <td>2.0</td>\n",
       "      <td>3000</td>\n",
       "      <td>1</td>\n",
       "      <td>1.0</td>\n",
       "      <td>1.0</td>\n",
       "      <td>101348.88</td>\n",
       "      <td>1</td>\n",
       "    </tr>\n",
       "    <tr>\n",
       "      <th>1</th>\n",
       "      <td>608.0</td>\n",
       "      <td>Spain</td>\n",
       "      <td>Female</td>\n",
       "      <td>41</td>\n",
       "      <td>1.0</td>\n",
       "      <td>83807.86</td>\n",
       "      <td>1</td>\n",
       "      <td>0.0</td>\n",
       "      <td>1.0</td>\n",
       "      <td>112542.58</td>\n",
       "      <td>0</td>\n",
       "    </tr>\n",
       "    <tr>\n",
       "      <th>2</th>\n",
       "      <td>502.0</td>\n",
       "      <td>France</td>\n",
       "      <td>Female</td>\n",
       "      <td>42</td>\n",
       "      <td>8.0</td>\n",
       "      <td>159660.8</td>\n",
       "      <td>3</td>\n",
       "      <td>1.0</td>\n",
       "      <td>0.0</td>\n",
       "      <td>113931.57</td>\n",
       "      <td>1</td>\n",
       "    </tr>\n",
       "    <tr>\n",
       "      <th>3</th>\n",
       "      <td>699.0</td>\n",
       "      <td>France</td>\n",
       "      <td>Female</td>\n",
       "      <td>39</td>\n",
       "      <td>1.0</td>\n",
       "      <td>3000</td>\n",
       "      <td>2</td>\n",
       "      <td>0.0</td>\n",
       "      <td>0.0</td>\n",
       "      <td>93826.63</td>\n",
       "      <td>0</td>\n",
       "    </tr>\n",
       "    <tr>\n",
       "      <th>4</th>\n",
       "      <td>850.0</td>\n",
       "      <td>Spain</td>\n",
       "      <td>Female</td>\n",
       "      <td>43</td>\n",
       "      <td>2.0</td>\n",
       "      <td>125510.82</td>\n",
       "      <td>1</td>\n",
       "      <td>1.0</td>\n",
       "      <td>1.0</td>\n",
       "      <td>79084.10</td>\n",
       "      <td>0</td>\n",
       "    </tr>\n",
       "  </tbody>\n",
       "</table>\n",
       "</div>"
      ],
      "text/plain": [
       "   Credit Score Geography  Gender Age  Tenure    Balance  Num of Dependents  \\\n",
       "0         619.0    France  Female  42     2.0       3000                  1   \n",
       "1         608.0     Spain  Female  41     1.0   83807.86                  1   \n",
       "2         502.0    France  Female  42     8.0   159660.8                  3   \n",
       "3         699.0    France  Female  39     1.0       3000                  2   \n",
       "4         850.0     Spain  Female  43     2.0  125510.82                  1   \n",
       "\n",
       "   Has CrCard  Is Active Member  Estimated Salary  Exited  \n",
       "0         1.0               1.0         101348.88       1  \n",
       "1         0.0               1.0         112542.58       0  \n",
       "2         1.0               0.0         113931.57       1  \n",
       "3         0.0               0.0          93826.63       0  \n",
       "4         1.0               1.0          79084.10       0  "
      ]
     },
     "execution_count": 11,
     "metadata": {},
     "output_type": "execute_result"
    }
   ],
   "source": [
    "churn_df.head()"
   ]
  },
  {
   "cell_type": "code",
   "execution_count": 12,
   "id": "expensive-colombia",
   "metadata": {},
   "outputs": [
    {
     "data": {
      "text/plain": [
       "0    0.714065\n",
       "1    0.285935\n",
       "Name: Exited, dtype: float64"
      ]
     },
     "execution_count": 12,
     "metadata": {},
     "output_type": "execute_result"
    }
   ],
   "source": [
    "churn_df.Exited.value_counts(normalize=True)"
   ]
  },
  {
   "cell_type": "code",
   "execution_count": 13,
   "id": "wrapped-philip",
   "metadata": {},
   "outputs": [
    {
     "data": {
      "text/plain": [
       "164701.68       1\n",
       "115761.51       1\n",
       "112181.08       1\n",
       "141581.08       1\n",
       "147531.82       1\n",
       "             ... \n",
       "166833.86       1\n",
       "136820.99       1\n",
       "130170.82       2\n",
       "?               3\n",
       "3000         2481\n",
       "Name: Balance, Length: 4638, dtype: int64"
      ]
     },
     "execution_count": 13,
     "metadata": {},
     "output_type": "execute_result"
    }
   ],
   "source": [
    "churn_df.Balance.value_counts().sort_values()"
   ]
  },
  {
   "cell_type": "code",
   "execution_count": 14,
   "id": "hawaiian-vitamin",
   "metadata": {},
   "outputs": [
    {
     "data": {
      "text/plain": [
       "82      1\n",
       "88      1\n",
       "?       1\n",
       "81      1\n",
       "85      1\n",
       "     ... \n",
       "36    296\n",
       "33    301\n",
       "35    322\n",
       "38    326\n",
       "37    337\n",
       "Name: Age, Length: 69, dtype: int64"
      ]
     },
     "execution_count": 14,
     "metadata": {},
     "output_type": "execute_result"
    }
   ],
   "source": [
    "churn_df.Age.value_counts().sort_values()"
   ]
  },
  {
   "cell_type": "code",
   "execution_count": 15,
   "id": "common-cable",
   "metadata": {},
   "outputs": [],
   "source": [
    "churn_df.Age.replace(to_replace='?',value=np.NaN, inplace=True)\n",
    "# churn_df['Age'] = churn_df['Age'].replace('?', np.NaN)"
   ]
  },
  {
   "cell_type": "code",
   "execution_count": 16,
   "id": "southeast-return",
   "metadata": {},
   "outputs": [],
   "source": [
    "churn_df.Balance.replace(to_replace='?',value=np.NaN, inplace=True)\n",
    "# churn_df['Balance'] = churn_df['Balance'].replace('?', np.NaN)"
   ]
  },
  {
   "cell_type": "code",
   "execution_count": 17,
   "id": "overhead-unemployment",
   "metadata": {},
   "outputs": [
    {
     "data": {
      "text/plain": [
       "82      1\n",
       "88      1\n",
       "81      1\n",
       "85      1\n",
       "84      2\n",
       "     ... \n",
       "36    296\n",
       "33    301\n",
       "35    322\n",
       "38    326\n",
       "37    337\n",
       "Name: Age, Length: 68, dtype: int64"
      ]
     },
     "execution_count": 17,
     "metadata": {},
     "output_type": "execute_result"
    }
   ],
   "source": [
    "churn_df.Age.value_counts().sort_values()"
   ]
  },
  {
   "cell_type": "code",
   "execution_count": 18,
   "id": "diverse-encoding",
   "metadata": {},
   "outputs": [
    {
     "data": {
      "text/plain": [
       "106012.2        1\n",
       "112181.08       1\n",
       "141581.08       1\n",
       "147531.82       1\n",
       "156555.54       1\n",
       "             ... \n",
       "105214.58       1\n",
       "80964.57        1\n",
       "114023.64       1\n",
       "130170.82       2\n",
       "3000         2481\n",
       "Name: Balance, Length: 4637, dtype: int64"
      ]
     },
     "execution_count": 18,
     "metadata": {},
     "output_type": "execute_result"
    }
   ],
   "source": [
    "churn_df.Balance.value_counts().sort_values()"
   ]
  },
  {
   "cell_type": "code",
   "execution_count": 19,
   "id": "liberal-diploma",
   "metadata": {},
   "outputs": [
    {
     "data": {
      "text/plain": [
       "6"
      ]
     },
     "execution_count": 19,
     "metadata": {},
     "output_type": "execute_result"
    }
   ],
   "source": [
    "churn_df.Balance.isnull().sum()"
   ]
  },
  {
   "cell_type": "code",
   "execution_count": 20,
   "id": "adverse-concert",
   "metadata": {},
   "outputs": [
    {
     "data": {
      "text/plain": [
       "1"
      ]
     },
     "execution_count": 20,
     "metadata": {},
     "output_type": "execute_result"
    }
   ],
   "source": [
    "churn_df.Age.isnull().sum()"
   ]
  },
  {
   "cell_type": "code",
   "execution_count": 21,
   "id": "renewable-globe",
   "metadata": {},
   "outputs": [],
   "source": [
    "churn_df['Age']= churn_df['Age'].astype('float64')"
   ]
  },
  {
   "cell_type": "code",
   "execution_count": 22,
   "id": "certified-brother",
   "metadata": {},
   "outputs": [],
   "source": [
    "churn_df['Balance']= churn_df['Balance'].astype('float64')"
   ]
  },
  {
   "cell_type": "code",
   "execution_count": 23,
   "id": "ecological-brunswick",
   "metadata": {},
   "outputs": [
    {
     "data": {
      "text/plain": [
       "<AxesSubplot:>"
      ]
     },
     "execution_count": 23,
     "metadata": {},
     "output_type": "execute_result"
    },
    {
     "data": {
      "image/png": "[encoded data removed]",
      "text/plain": [
       "<Figure size 1080x1080 with 1 Axes>"
      ]
     },
     "metadata": {
      "needs_background": "light"
     },
     "output_type": "display_data"
    }
   ],
   "source": [
    "plt.figure(figsize=(15,15))\n",
    "churn_df[['Credit Score','Age','Tenure','Num of Dependents']].boxplot(vert=0)"
   ]
  },
  {
   "cell_type": "code",
   "execution_count": 24,
   "id": "processed-coral",
   "metadata": {},
   "outputs": [
    {
     "data": {
      "text/plain": [
       "<AxesSubplot:>"
      ]
     },
     "execution_count": 24,
     "metadata": {},
     "output_type": "execute_result"
    },
    {
     "data": {
      "image/png": "[encoded data removed]",
      "text/plain": [
       "<Figure size 864x360 with 1 Axes>"
      ]
     },
     "metadata": {
      "needs_background": "light"
     },
     "output_type": "display_data"
    }
   ],
   "source": [
    "plt.figure(figsize=(12,5))\n",
    "churn_df[['Balance','Estimated Salary']].boxplot(vert=0)"
   ]
  },
  {
   "cell_type": "code",
   "execution_count": 25,
   "id": "signed-pound",
   "metadata": {},
   "outputs": [],
   "source": [
    "for column in churn_df[['Tenure', 'Balance','Estimated Salary']]:\n",
    "    mean = churn_df[column].mean()\n",
    "    churn_df[column] = churn_df[column].fillna(mean)"
   ]
  },
  {
   "cell_type": "code",
   "execution_count": 26,
   "id": "administrative-developer",
   "metadata": {},
   "outputs": [
    {
     "data": {
      "text/plain": [
       "Credit Score          6\n",
       "Geography             4\n",
       "Gender                8\n",
       "Age                   1\n",
       "Tenure                0\n",
       "Balance               0\n",
       "Num of Dependents     0\n",
       "Has CrCard           13\n",
       "Is Active Member     10\n",
       "Estimated Salary      0\n",
       "Exited                0\n",
       "dtype: int64"
      ]
     },
     "execution_count": 26,
     "metadata": {},
     "output_type": "execute_result"
    }
   ],
   "source": [
    "churn_df.isnull().sum()"
   ]
  },
  {
   "cell_type": "code",
   "execution_count": 27,
   "id": "chemical-volleyball",
   "metadata": {},
   "outputs": [],
   "source": [
    "churn_df['Credit Score'] = churn_df['Credit Score'].fillna(churn_df['Credit Score'].median())"
   ]
  },
  {
   "cell_type": "code",
   "execution_count": 28,
   "id": "personal-alias",
   "metadata": {},
   "outputs": [],
   "source": [
    "# Substituting/Imputing missing values for all categorical columns\n",
    "for column in churn_df[['Geography','Gender','Has CrCard','Is Active Member']]:\n",
    "    mode = churn_df[column].mode()\n",
    "    churn_df[column] = churn_df[column].fillna(mode[0])"
   ]
  },
  {
   "cell_type": "code",
   "execution_count": 29,
   "id": "faced-infrastructure",
   "metadata": {},
   "outputs": [
    {
     "data": {
      "text/plain": [
       "Credit Score         0\n",
       "Geography            0\n",
       "Gender               0\n",
       "Age                  1\n",
       "Tenure               0\n",
       "Balance              0\n",
       "Num of Dependents    0\n",
       "Has CrCard           0\n",
       "Is Active Member     0\n",
       "Estimated Salary     0\n",
       "Exited               0\n",
       "dtype: int64"
      ]
     },
     "execution_count": 29,
     "metadata": {},
     "output_type": "execute_result"
    }
   ],
   "source": [
    "churn_df.isnull().sum()"
   ]
  },
  {
   "cell_type": "code",
   "execution_count": 30,
   "id": "judicial-potential",
   "metadata": {},
   "outputs": [],
   "source": [
    "churn_df['Age'] = churn_df['Age'].fillna(churn_df['Age'].mode())"
   ]
  },
  {
   "cell_type": "code",
   "execution_count": 31,
   "id": "aggressive-audience",
   "metadata": {},
   "outputs": [],
   "source": [
    "churn_df.Balance.replace(to_replace=np.NaN,value=churn_df['Balance'].mean(), inplace=True)"
   ]
  },
  {
   "cell_type": "code",
   "execution_count": 32,
   "id": "spoken-geometry",
   "metadata": {},
   "outputs": [],
   "source": [
    "churn_df.Age.replace(to_replace=np.NaN,value=churn_df['Age'].mean(), inplace=True)"
   ]
  },
  {
   "cell_type": "code",
   "execution_count": 33,
   "id": "photographic-hartford",
   "metadata": {},
   "outputs": [
    {
     "data": {
      "text/plain": [
       "<AxesSubplot:>"
      ]
     },
     "execution_count": 33,
     "metadata": {},
     "output_type": "execute_result"
    },
    {
     "data": {
      "image/png": "[encoded data removed]",
      "text/plain": [
       "<Figure size 720x576 with 2 Axes>"
      ]
     },
     "metadata": {
      "needs_background": "light"
     },
     "output_type": "display_data"
    }
   ],
   "source": [
    "# construct heatmap with only continuous variables\n",
    "plt.figure(figsize=(10,8))\n",
    "sns.set(font_scale=1.2)\n",
    "sns.heatmap(churn_df[['Age','Balance','Credit Score', 'Tenure', 'Estimated Salary']].corr(), annot=True)"
   ]
  },
  {
   "cell_type": "code",
   "execution_count": 34,
   "id": "handed-recycling",
   "metadata": {},
   "outputs": [],
   "source": [
    "for feature in churn_df.columns:\n",
    "    if churn_df[feature].dtype == 'object':\n",
    "        churn_df[feature] = pd.Categorical(churn_df[feature]).codes"
   ]
  },
  {
   "cell_type": "code",
   "execution_count": 35,
   "id": "scenic-champion",
   "metadata": {},
   "outputs": [
    {
     "data": {
      "text/html": [
       "<div>\n",
       "<style scoped>\n",
       "    .dataframe tbody tr th:only-of-type {\n",
       "        vertical-align: middle;\n",
       "    }\n",
       "\n",
       "    .dataframe tbody tr th {\n",
       "        vertical-align: top;\n",
       "    }\n",
       "\n",
       "    .dataframe thead th {\n",
       "        text-align: right;\n",
       "    }\n",
       "</style>\n",
       "<table border=\"1\" class=\"dataframe\">\n",
       "  <thead>\n",
       "    <tr style=\"text-align: right;\">\n",
       "      <th></th>\n",
       "      <th>Credit Score</th>\n",
       "      <th>Geography</th>\n",
       "      <th>Gender</th>\n",
       "      <th>Age</th>\n",
       "      <th>Tenure</th>\n",
       "      <th>Balance</th>\n",
       "      <th>Num of Dependents</th>\n",
       "      <th>Has CrCard</th>\n",
       "      <th>Is Active Member</th>\n",
       "      <th>Estimated Salary</th>\n",
       "      <th>Exited</th>\n",
       "    </tr>\n",
       "  </thead>\n",
       "  <tbody>\n",
       "    <tr>\n",
       "      <th>0</th>\n",
       "      <td>619.0</td>\n",
       "      <td>1</td>\n",
       "      <td>1</td>\n",
       "      <td>42.0</td>\n",
       "      <td>2.0</td>\n",
       "      <td>3000.00</td>\n",
       "      <td>1</td>\n",
       "      <td>1.0</td>\n",
       "      <td>1.0</td>\n",
       "      <td>101348.88</td>\n",
       "      <td>1</td>\n",
       "    </tr>\n",
       "    <tr>\n",
       "      <th>1</th>\n",
       "      <td>608.0</td>\n",
       "      <td>3</td>\n",
       "      <td>1</td>\n",
       "      <td>41.0</td>\n",
       "      <td>1.0</td>\n",
       "      <td>83807.86</td>\n",
       "      <td>1</td>\n",
       "      <td>0.0</td>\n",
       "      <td>1.0</td>\n",
       "      <td>112542.58</td>\n",
       "      <td>0</td>\n",
       "    </tr>\n",
       "    <tr>\n",
       "      <th>2</th>\n",
       "      <td>502.0</td>\n",
       "      <td>1</td>\n",
       "      <td>1</td>\n",
       "      <td>42.0</td>\n",
       "      <td>8.0</td>\n",
       "      <td>159660.80</td>\n",
       "      <td>3</td>\n",
       "      <td>1.0</td>\n",
       "      <td>0.0</td>\n",
       "      <td>113931.57</td>\n",
       "      <td>1</td>\n",
       "    </tr>\n",
       "    <tr>\n",
       "      <th>3</th>\n",
       "      <td>699.0</td>\n",
       "      <td>1</td>\n",
       "      <td>1</td>\n",
       "      <td>39.0</td>\n",
       "      <td>1.0</td>\n",
       "      <td>3000.00</td>\n",
       "      <td>2</td>\n",
       "      <td>0.0</td>\n",
       "      <td>0.0</td>\n",
       "      <td>93826.63</td>\n",
       "      <td>0</td>\n",
       "    </tr>\n",
       "    <tr>\n",
       "      <th>4</th>\n",
       "      <td>850.0</td>\n",
       "      <td>3</td>\n",
       "      <td>1</td>\n",
       "      <td>43.0</td>\n",
       "      <td>2.0</td>\n",
       "      <td>125510.82</td>\n",
       "      <td>1</td>\n",
       "      <td>1.0</td>\n",
       "      <td>1.0</td>\n",
       "      <td>79084.10</td>\n",
       "      <td>0</td>\n",
       "    </tr>\n",
       "  </tbody>\n",
       "</table>\n",
       "</div>"
      ],
      "text/plain": [
       "   Credit Score  Geography  Gender   Age  Tenure    Balance  \\\n",
       "0         619.0          1       1  42.0     2.0    3000.00   \n",
       "1         608.0          3       1  41.0     1.0   83807.86   \n",
       "2         502.0          1       1  42.0     8.0  159660.80   \n",
       "3         699.0          1       1  39.0     1.0    3000.00   \n",
       "4         850.0          3       1  43.0     2.0  125510.82   \n",
       "\n",
       "   Num of Dependents  Has CrCard  Is Active Member  Estimated Salary  Exited  \n",
       "0                  1         1.0               1.0         101348.88       1  \n",
       "1                  1         0.0               1.0         112542.58       0  \n",
       "2                  3         1.0               0.0         113931.57       1  \n",
       "3                  2         0.0               0.0          93826.63       0  \n",
       "4                  1         1.0               1.0          79084.10       0  "
      ]
     },
     "execution_count": 35,
     "metadata": {},
     "output_type": "execute_result"
    }
   ],
   "source": [
    "churn_df.head()"
   ]
  },
  {
   "cell_type": "code",
   "execution_count": 36,
   "id": "informational-smith",
   "metadata": {},
   "outputs": [],
   "source": [
    "from sklearn.model_selection import train_test_split\n",
    "#Extract x and y\n",
    "\n",
    "x = churn_df.drop(['Exited'], axis=1)\n",
    "y =  churn_df.pop('Exited')"
   ]
  },
  {
   "cell_type": "code",
   "execution_count": 38,
   "id": "hydraulic-imperial",
   "metadata": {},
   "outputs": [
    {
     "name": "stdout",
     "output_type": "stream",
     "text": [
      "<class 'pandas.core.frame.DataFrame'>\n",
      "RangeIndex: 7124 entries, 0 to 7123\n",
      "Data columns (total 10 columns):\n",
      " #   Column             Non-Null Count  Dtype  \n",
      "---  ------             --------------  -----  \n",
      " 0   Credit Score       7124 non-null   float64\n",
      " 1   Geography          7124 non-null   int8   \n",
      " 2   Gender             7124 non-null   int8   \n",
      " 3   Age                7124 non-null   float64\n",
      " 4   Tenure             7124 non-null   float64\n",
      " 5   Balance            7124 non-null   float64\n",
      " 6   Num of Dependents  7124 non-null   int64  \n",
      " 7   Has CrCard         7124 non-null   float64\n",
      " 8   Is Active Member   7124 non-null   float64\n",
      " 9   Estimated Salary   7124 non-null   float64\n",
      "dtypes: float64(7), int64(1), int8(2)\n",
      "memory usage: 459.3 KB\n"
     ]
    }
   ],
   "source": [
    "churn_df.info()"
   ]
  },
  {
   "cell_type": "code",
   "execution_count": 39,
   "id": "provincial-banana",
   "metadata": {},
   "outputs": [],
   "source": [
    "# Scaling the variables\n",
    "# from sklearn.preprocessing import StandardScaler\n",
    "# sc = StandardScaler()\n",
    "# churn_df = sc.fit_transform(churn_df)"
   ]
  },
  {
   "cell_type": "code",
   "execution_count": 61,
   "id": "dynamic-luxury",
   "metadata": {},
   "outputs": [],
   "source": [
    "#split data into 70% training and 30% test data\n",
    "x_train, x_test, y_train, y_test = train_test_split(x,y, test_size=0.30, random_state=1)"
   ]
  },
  {
   "cell_type": "code",
   "execution_count": 62,
   "id": "starting-vessel",
   "metadata": {},
   "outputs": [
    {
     "name": "stdout",
     "output_type": "stream",
     "text": [
      "x_train:  (4986, 10)\n",
      "x_test:  (2138, 10)\n",
      "y_train:  (4986,)\n",
      "y_test:  (2138,)\n"
     ]
    }
   ],
   "source": [
    "# Checking dimensions on the train and test data\n",
    "print('x_train: ',x_train.shape)\n",
    "print('x_test: ',x_test.shape)\n",
    "print('y_train: ',y_train.shape)\n",
    "print('y_test: ',y_test.shape)"
   ]
  },
  {
   "cell_type": "code",
   "execution_count": 63,
   "id": "sunrise-dating",
   "metadata": {},
   "outputs": [],
   "source": [
    "# Scaling the variables\n",
    "from sklearn.preprocessing import StandardScaler"
   ]
  },
  {
   "cell_type": "code",
   "execution_count": 64,
   "id": "facial-stations",
   "metadata": {},
   "outputs": [],
   "source": [
    "#Initialize an object for StandardScaler\n",
    "sc = StandardScaler()"
   ]
  },
  {
   "cell_type": "code",
   "execution_count": 66,
   "id": "confidential-ocean",
   "metadata": {
    "scrolled": true
   },
   "outputs": [],
   "source": [
    "#Scale the training data\n",
    "# x_train =  sc.transform(x_train)"
   ]
  },
  {
   "cell_type": "code",
   "execution_count": 67,
   "id": "breathing-theater",
   "metadata": {},
   "outputs": [],
   "source": [
    "x_test = sc.fit_transform(x_test)"
   ]
  },
  {
   "cell_type": "code",
   "execution_count": 68,
   "id": "serial-retro",
   "metadata": {},
   "outputs": [],
   "source": [
    "x_train = sc.transform(x_train)"
   ]
  },
  {
   "cell_type": "code",
   "execution_count": 69,
   "id": "tender-exclusion",
   "metadata": {},
   "outputs": [],
   "source": [
    "# x_test = sc.transform(x_test)"
   ]
  },
  {
   "cell_type": "code",
   "execution_count": 70,
   "id": "brutal-instrument",
   "metadata": {},
   "outputs": [],
   "source": [
    "# Building Neural Network Model"
   ]
  },
  {
   "cell_type": "code",
   "execution_count": 71,
   "id": "fabulous-detection",
   "metadata": {},
   "outputs": [],
   "source": [
    "clf = MLPClassifier(hidden_layer_sizes=100, max_iter=5000,solver='sgd', verbose=True, random_state=1, tol=0.01)"
   ]
  },
  {
   "cell_type": "code",
   "execution_count": 72,
   "id": "corporate-tablet",
   "metadata": {},
   "outputs": [
    {
     "name": "stdout",
     "output_type": "stream",
     "text": [
      "Iteration 1, loss = 0.74020380\n",
      "Iteration 2, loss = 0.67571937\n",
      "Iteration 3, loss = 0.63416596\n",
      "Iteration 4, loss = 0.60978070\n",
      "Iteration 5, loss = 0.59488094\n",
      "Iteration 6, loss = 0.58403918\n",
      "Iteration 7, loss = 0.57592817\n",
      "Iteration 8, loss = 0.56908198\n",
      "Iteration 9, loss = 0.56328803\n",
      "Iteration 10, loss = 0.55809052\n",
      "Iteration 11, loss = 0.55352169\n",
      "Iteration 12, loss = 0.54928333\n",
      "Iteration 13, loss = 0.54537517\n",
      "Iteration 14, loss = 0.54192375\n",
      "Iteration 15, loss = 0.53862261\n",
      "Iteration 16, loss = 0.53559675\n",
      "Iteration 17, loss = 0.53282826\n",
      "Training loss did not improve more than tol=0.010000 for 10 consecutive epochs. Stopping.\n"
     ]
    },
    {
     "data": {
      "text/plain": [
       "MLPClassifier(hidden_layer_sizes=100, max_iter=5000, random_state=1,\n",
       "              solver='sgd', tol=0.01, verbose=True)"
      ]
     },
     "execution_count": 72,
     "metadata": {},
     "output_type": "execute_result"
    }
   ],
   "source": [
    "clf.fit(x_train, y_train)"
   ]
  },
  {
   "cell_type": "code",
   "execution_count": 73,
   "id": "strategic-bristol",
   "metadata": {},
   "outputs": [],
   "source": [
    "y_pred =  clf.predict(x_test)"
   ]
  },
  {
   "cell_type": "code",
   "execution_count": 74,
   "id": "color-designer",
   "metadata": {},
   "outputs": [],
   "source": [
    "clf = MLPClassifier(hidden_layer_sizes=100, max_iter=5000,solver='sgd', verbose=True, random_state=1, tol=0.1)"
   ]
  },
  {
   "cell_type": "code",
   "execution_count": 75,
   "id": "regional-uzbekistan",
   "metadata": {},
   "outputs": [
    {
     "name": "stdout",
     "output_type": "stream",
     "text": [
      "Iteration 1, loss = 0.74020380\n",
      "Iteration 2, loss = 0.67571937\n",
      "Iteration 3, loss = 0.63416596\n",
      "Iteration 4, loss = 0.60978070\n",
      "Iteration 5, loss = 0.59488094\n",
      "Iteration 6, loss = 0.58403918\n",
      "Iteration 7, loss = 0.57592817\n",
      "Iteration 8, loss = 0.56908198\n",
      "Iteration 9, loss = 0.56328803\n",
      "Iteration 10, loss = 0.55809052\n",
      "Iteration 11, loss = 0.55352169\n",
      "Iteration 12, loss = 0.54928333\n",
      "Training loss did not improve more than tol=0.100000 for 10 consecutive epochs. Stopping.\n"
     ]
    },
    {
     "data": {
      "text/plain": [
       "MLPClassifier(hidden_layer_sizes=100, max_iter=5000, random_state=1,\n",
       "              solver='sgd', tol=0.1, verbose=True)"
      ]
     },
     "execution_count": 75,
     "metadata": {},
     "output_type": "execute_result"
    }
   ],
   "source": [
    "clf.fit(x_train, y_train)"
   ]
  },
  {
   "cell_type": "code",
   "execution_count": 76,
   "id": "orange-radio",
   "metadata": {},
   "outputs": [],
   "source": [
    "from sklearn.metrics import confusion_matrix, classification_report"
   ]
  },
  {
   "cell_type": "code",
   "execution_count": 77,
   "id": "cardiac-emergency",
   "metadata": {},
   "outputs": [
    {
     "data": {
      "text/plain": [
       "array([[1524,   24],\n",
       "       [ 516,   74]], dtype=int64)"
      ]
     },
     "execution_count": 77,
     "metadata": {},
     "output_type": "execute_result"
    }
   ],
   "source": [
    "confusion_matrix(y_test, y_pred)"
   ]
  },
  {
   "cell_type": "code",
   "execution_count": 78,
   "id": "structural-partner",
   "metadata": {},
   "outputs": [
    {
     "data": {
      "text/plain": [
       "array([[3517,   22],\n",
       "       [1358,   89]], dtype=int64)"
      ]
     },
     "execution_count": 78,
     "metadata": {},
     "output_type": "execute_result"
    }
   ],
   "source": [
    "pred2 = clf.predict(x_train)\n",
    "confusion_matrix(y_train, pred2)"
   ]
  },
  {
   "cell_type": "code",
   "execution_count": 79,
   "id": "fresh-jersey",
   "metadata": {},
   "outputs": [
    {
     "name": "stdout",
     "output_type": "stream",
     "text": [
      "              precision    recall  f1-score   support\n",
      "\n",
      "           0       0.75      0.98      0.85      1548\n",
      "           1       0.76      0.13      0.22       590\n",
      "\n",
      "    accuracy                           0.75      2138\n",
      "   macro avg       0.75      0.55      0.53      2138\n",
      "weighted avg       0.75      0.75      0.67      2138\n",
      "\n"
     ]
    }
   ],
   "source": [
    "print(classification_report(y_test, y_pred))"
   ]
  },
  {
   "cell_type": "code",
   "execution_count": 80,
   "id": "going-musical",
   "metadata": {},
   "outputs": [
    {
     "name": "stdout",
     "output_type": "stream",
     "text": [
      "              precision    recall  f1-score   support\n",
      "\n",
      "           0       0.72      0.99      0.84      3539\n",
      "           1       0.80      0.06      0.11      1447\n",
      "\n",
      "    accuracy                           0.72      4986\n",
      "   macro avg       0.76      0.53      0.48      4986\n",
      "weighted avg       0.74      0.72      0.63      4986\n",
      "\n"
     ]
    }
   ],
   "source": [
    "print(classification_report(y_train, pred2))"
   ]
  },
  {
   "cell_type": "code",
   "execution_count": 81,
   "id": "twenty-scheduling",
   "metadata": {},
   "outputs": [],
   "source": [
    "import matplotlib.pyplot as plt"
   ]
  },
  {
   "cell_type": "code",
   "execution_count": 82,
   "id": "vietnamese-queensland",
   "metadata": {},
   "outputs": [
    {
     "name": "stdout",
     "output_type": "stream",
     "text": [
      "AUC :  0.7299267535818179\n"
     ]
    },
    {
     "data": {
      "image/png": "[encoded data removed]",
      "text/plain": [
       "<Figure size 432x288 with 1 Axes>"
      ]
     },
     "metadata": {},
     "output_type": "display_data"
    }
   ],
   "source": [
    "# AUC & ROC for the training data\n",
    "# Predict probabilities\n",
    "probs = clf.predict_proba(x_train)\n",
    "probs = probs[: , 1]\n",
    "\n",
    "# Calculate AUC\n",
    "from sklearn.metrics import roc_auc_score\n",
    "auc = roc_auc_score(y_train, probs)\n",
    "print('AUC : ', auc)\n",
    "\n",
    "# Calculate roc curve\n",
    "from sklearn.metrics import roc_curve\n",
    "fpr, tpr, thresholds = roc_curve(y_train, probs)\n",
    "plt.plot([0,1], [0,1], linestyle = '--')\n",
    "\n",
    "# plot the roc curve for the model\n",
    "plt.plot(fpr, tpr, marker='.')\n",
    "\n",
    "plt.show()"
   ]
  },
  {
   "cell_type": "code",
   "execution_count": null,
   "id": "mechanical-poker",
   "metadata": {},
   "outputs": [],
   "source": []
  }
 ],
 "metadata": {
  "kernelspec": {
   "display_name": "Python 3",
   "language": "python",
   "name": "python3"
  },
  "language_info": {
   "codemirror_mode": {
    "name": "ipython",
    "version": 3
   },
   "file_extension": ".py",
   "mimetype": "text/x-python",
   "name": "python",
   "nbconvert_exporter": "python",
   "pygments_lexer": "ipython3",
   "version": "3.8.8"
  }
 },
 "nbformat": 4,
 "nbformat_minor": 5
}
