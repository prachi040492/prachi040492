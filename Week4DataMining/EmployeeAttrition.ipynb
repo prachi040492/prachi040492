{
 "cells": [
  {
   "cell_type": "code",
   "execution_count": 36,
   "id": "different-island",
   "metadata": {},
   "outputs": [],
   "source": [
    "import numpy as np\n",
    "import pandas as pd\n",
    "import seaborn as sns\n",
    "import matplotlib.pyplot as plt\n",
    "from sklearn.tree import DecisionTreeClassifier\n",
    "from sklearn.ensemble import RandomForestClassifier\n",
    "from sklearn.neural_network import MLPClassifier"
   ]
  },
  {
   "cell_type": "code",
   "execution_count": 37,
   "id": "considered-internship",
   "metadata": {},
   "outputs": [],
   "source": [
    "attr_df = pd.read_csv('HR_Employee_Attrition_Data.csv')"
   ]
  },
  {
   "cell_type": "code",
   "execution_count": 38,
   "id": "according-album",
   "metadata": {},
   "outputs": [
    {
     "data": {
      "text/html": [
       "<div>\n",
       "<style scoped>\n",
       "    .dataframe tbody tr th:only-of-type {\n",
       "        vertical-align: middle;\n",
       "    }\n",
       "\n",
       "    .dataframe tbody tr th {\n",
       "        vertical-align: top;\n",
       "    }\n",
       "\n",
       "    .dataframe thead th {\n",
       "        text-align: right;\n",
       "    }\n",
       "</style>\n",
       "<table border=\"1\" class=\"dataframe\">\n",
       "  <thead>\n",
       "    <tr style=\"text-align: right;\">\n",
       "      <th></th>\n",
       "      <th>Age</th>\n",
       "      <th>Attrition</th>\n",
       "      <th>DailyRate</th>\n",
       "      <th>DistanceFromHome</th>\n",
       "      <th>Education</th>\n",
       "      <th>EmployeeCount</th>\n",
       "      <th>EmployeeNumber</th>\n",
       "      <th>EnvironmentSatisfaction</th>\n",
       "      <th>HourlyRate</th>\n",
       "      <th>JobInvolvement</th>\n",
       "      <th>...</th>\n",
       "      <th>RelationshipSatisfaction</th>\n",
       "      <th>StandardHours</th>\n",
       "      <th>StockOptionLevel</th>\n",
       "      <th>TotalWorkingYears</th>\n",
       "      <th>TrainingTimesLastYear</th>\n",
       "      <th>WorkLifeBalance</th>\n",
       "      <th>YearsAtCompany</th>\n",
       "      <th>YearsInCurrentRole</th>\n",
       "      <th>YearsSinceLastPromotion</th>\n",
       "      <th>YearsWithCurrManager</th>\n",
       "    </tr>\n",
       "  </thead>\n",
       "  <tbody>\n",
       "    <tr>\n",
       "      <th>0</th>\n",
       "      <td>41</td>\n",
       "      <td>1</td>\n",
       "      <td>1102</td>\n",
       "      <td>1</td>\n",
       "      <td>2</td>\n",
       "      <td>1</td>\n",
       "      <td>1</td>\n",
       "      <td>2</td>\n",
       "      <td>94</td>\n",
       "      <td>3</td>\n",
       "      <td>...</td>\n",
       "      <td>1</td>\n",
       "      <td>80</td>\n",
       "      <td>0</td>\n",
       "      <td>8</td>\n",
       "      <td>0</td>\n",
       "      <td>1</td>\n",
       "      <td>6</td>\n",
       "      <td>4</td>\n",
       "      <td>0</td>\n",
       "      <td>5</td>\n",
       "    </tr>\n",
       "    <tr>\n",
       "      <th>1</th>\n",
       "      <td>49</td>\n",
       "      <td>0</td>\n",
       "      <td>279</td>\n",
       "      <td>8</td>\n",
       "      <td>1</td>\n",
       "      <td>1</td>\n",
       "      <td>2</td>\n",
       "      <td>3</td>\n",
       "      <td>61</td>\n",
       "      <td>2</td>\n",
       "      <td>...</td>\n",
       "      <td>4</td>\n",
       "      <td>80</td>\n",
       "      <td>1</td>\n",
       "      <td>10</td>\n",
       "      <td>3</td>\n",
       "      <td>3</td>\n",
       "      <td>10</td>\n",
       "      <td>7</td>\n",
       "      <td>1</td>\n",
       "      <td>7</td>\n",
       "    </tr>\n",
       "    <tr>\n",
       "      <th>2</th>\n",
       "      <td>37</td>\n",
       "      <td>1</td>\n",
       "      <td>1373</td>\n",
       "      <td>2</td>\n",
       "      <td>2</td>\n",
       "      <td>1</td>\n",
       "      <td>3</td>\n",
       "      <td>4</td>\n",
       "      <td>92</td>\n",
       "      <td>2</td>\n",
       "      <td>...</td>\n",
       "      <td>2</td>\n",
       "      <td>80</td>\n",
       "      <td>0</td>\n",
       "      <td>7</td>\n",
       "      <td>3</td>\n",
       "      <td>3</td>\n",
       "      <td>0</td>\n",
       "      <td>0</td>\n",
       "      <td>0</td>\n",
       "      <td>0</td>\n",
       "    </tr>\n",
       "    <tr>\n",
       "      <th>3</th>\n",
       "      <td>33</td>\n",
       "      <td>0</td>\n",
       "      <td>1392</td>\n",
       "      <td>3</td>\n",
       "      <td>4</td>\n",
       "      <td>1</td>\n",
       "      <td>4</td>\n",
       "      <td>4</td>\n",
       "      <td>56</td>\n",
       "      <td>3</td>\n",
       "      <td>...</td>\n",
       "      <td>3</td>\n",
       "      <td>80</td>\n",
       "      <td>0</td>\n",
       "      <td>8</td>\n",
       "      <td>3</td>\n",
       "      <td>3</td>\n",
       "      <td>8</td>\n",
       "      <td>7</td>\n",
       "      <td>3</td>\n",
       "      <td>0</td>\n",
       "    </tr>\n",
       "    <tr>\n",
       "      <th>4</th>\n",
       "      <td>27</td>\n",
       "      <td>0</td>\n",
       "      <td>591</td>\n",
       "      <td>2</td>\n",
       "      <td>1</td>\n",
       "      <td>1</td>\n",
       "      <td>5</td>\n",
       "      <td>1</td>\n",
       "      <td>40</td>\n",
       "      <td>3</td>\n",
       "      <td>...</td>\n",
       "      <td>4</td>\n",
       "      <td>80</td>\n",
       "      <td>1</td>\n",
       "      <td>6</td>\n",
       "      <td>3</td>\n",
       "      <td>3</td>\n",
       "      <td>2</td>\n",
       "      <td>2</td>\n",
       "      <td>2</td>\n",
       "      <td>2</td>\n",
       "    </tr>\n",
       "  </tbody>\n",
       "</table>\n",
       "<p>5 rows × 27 columns</p>\n",
       "</div>"
      ],
      "text/plain": [
       "   Age  Attrition  DailyRate  DistanceFromHome  Education  EmployeeCount  \\\n",
       "0   41          1       1102                 1          2              1   \n",
       "1   49          0        279                 8          1              1   \n",
       "2   37          1       1373                 2          2              1   \n",
       "3   33          0       1392                 3          4              1   \n",
       "4   27          0        591                 2          1              1   \n",
       "\n",
       "   EmployeeNumber  EnvironmentSatisfaction  HourlyRate  JobInvolvement  ...  \\\n",
       "0               1                        2          94               3  ...   \n",
       "1               2                        3          61               2  ...   \n",
       "2               3                        4          92               2  ...   \n",
       "3               4                        4          56               3  ...   \n",
       "4               5                        1          40               3  ...   \n",
       "\n",
       "   RelationshipSatisfaction  StandardHours  StockOptionLevel  \\\n",
       "0                         1             80                 0   \n",
       "1                         4             80                 1   \n",
       "2                         2             80                 0   \n",
       "3                         3             80                 0   \n",
       "4                         4             80                 1   \n",
       "\n",
       "   TotalWorkingYears  TrainingTimesLastYear  WorkLifeBalance  YearsAtCompany  \\\n",
       "0                  8                      0                1               6   \n",
       "1                 10                      3                3              10   \n",
       "2                  7                      3                3               0   \n",
       "3                  8                      3                3               8   \n",
       "4                  6                      3                3               2   \n",
       "\n",
       "   YearsInCurrentRole  YearsSinceLastPromotion  YearsWithCurrManager  \n",
       "0                   4                        0                     5  \n",
       "1                   7                        1                     7  \n",
       "2                   0                        0                     0  \n",
       "3                   7                        3                     0  \n",
       "4                   2                        2                     2  \n",
       "\n",
       "[5 rows x 27 columns]"
      ]
     },
     "execution_count": 38,
     "metadata": {},
     "output_type": "execute_result"
    }
   ],
   "source": [
    "attr_df.head()"
   ]
  },
  {
   "cell_type": "code",
   "execution_count": 39,
   "id": "dress-black",
   "metadata": {},
   "outputs": [
    {
     "data": {
      "text/plain": [
       "(2940, 27)"
      ]
     },
     "execution_count": 39,
     "metadata": {},
     "output_type": "execute_result"
    }
   ],
   "source": [
    "attr_df.shape"
   ]
  },
  {
   "cell_type": "code",
   "execution_count": 40,
   "id": "natural-combat",
   "metadata": {},
   "outputs": [
    {
     "name": "stdout",
     "output_type": "stream",
     "text": [
      "<class 'pandas.core.frame.DataFrame'>\n",
      "RangeIndex: 2940 entries, 0 to 2939\n",
      "Data columns (total 27 columns):\n",
      " #   Column                    Non-Null Count  Dtype\n",
      "---  ------                    --------------  -----\n",
      " 0   Age                       2940 non-null   int64\n",
      " 1   Attrition                 2940 non-null   int64\n",
      " 2   DailyRate                 2940 non-null   int64\n",
      " 3   DistanceFromHome          2940 non-null   int64\n",
      " 4   Education                 2940 non-null   int64\n",
      " 5   EmployeeCount             2940 non-null   int64\n",
      " 6   EmployeeNumber            2940 non-null   int64\n",
      " 7   EnvironmentSatisfaction   2940 non-null   int64\n",
      " 8   HourlyRate                2940 non-null   int64\n",
      " 9   JobInvolvement            2940 non-null   int64\n",
      " 10  JobLevel                  2940 non-null   int64\n",
      " 11  JobSatisfaction           2940 non-null   int64\n",
      " 12  MonthlyIncome             2940 non-null   int64\n",
      " 13  MonthlyRate               2940 non-null   int64\n",
      " 14  NumCompaniesWorked        2940 non-null   int64\n",
      " 15  PercentSalaryHike         2940 non-null   int64\n",
      " 16  PerformanceRating         2940 non-null   int64\n",
      " 17  RelationshipSatisfaction  2940 non-null   int64\n",
      " 18  StandardHours             2940 non-null   int64\n",
      " 19  StockOptionLevel          2940 non-null   int64\n",
      " 20  TotalWorkingYears         2940 non-null   int64\n",
      " 21  TrainingTimesLastYear     2940 non-null   int64\n",
      " 22  WorkLifeBalance           2940 non-null   int64\n",
      " 23  YearsAtCompany            2940 non-null   int64\n",
      " 24  YearsInCurrentRole        2940 non-null   int64\n",
      " 25  YearsSinceLastPromotion   2940 non-null   int64\n",
      " 26  YearsWithCurrManager      2940 non-null   int64\n",
      "dtypes: int64(27)\n",
      "memory usage: 620.3 KB\n"
     ]
    }
   ],
   "source": [
    "attr_df.info()"
   ]
  },
  {
   "cell_type": "code",
   "execution_count": 41,
   "id": "confirmed-permit",
   "metadata": {},
   "outputs": [
    {
     "data": {
      "text/plain": [
       "0"
      ]
     },
     "execution_count": 41,
     "metadata": {},
     "output_type": "execute_result"
    }
   ],
   "source": [
    "attr_df.isnull().sum().sum()"
   ]
  },
  {
   "cell_type": "code",
   "execution_count": 42,
   "id": "rational-journey",
   "metadata": {},
   "outputs": [
    {
     "data": {
      "text/html": [
       "<div>\n",
       "<style scoped>\n",
       "    .dataframe tbody tr th:only-of-type {\n",
       "        vertical-align: middle;\n",
       "    }\n",
       "\n",
       "    .dataframe tbody tr th {\n",
       "        vertical-align: top;\n",
       "    }\n",
       "\n",
       "    .dataframe thead th {\n",
       "        text-align: right;\n",
       "    }\n",
       "</style>\n",
       "<table border=\"1\" class=\"dataframe\">\n",
       "  <thead>\n",
       "    <tr style=\"text-align: right;\">\n",
       "      <th></th>\n",
       "      <th>Age</th>\n",
       "      <th>Attrition</th>\n",
       "      <th>DailyRate</th>\n",
       "      <th>DistanceFromHome</th>\n",
       "      <th>Education</th>\n",
       "      <th>EmployeeCount</th>\n",
       "      <th>EmployeeNumber</th>\n",
       "      <th>EnvironmentSatisfaction</th>\n",
       "      <th>HourlyRate</th>\n",
       "      <th>JobInvolvement</th>\n",
       "      <th>...</th>\n",
       "      <th>RelationshipSatisfaction</th>\n",
       "      <th>StandardHours</th>\n",
       "      <th>StockOptionLevel</th>\n",
       "      <th>TotalWorkingYears</th>\n",
       "      <th>TrainingTimesLastYear</th>\n",
       "      <th>WorkLifeBalance</th>\n",
       "      <th>YearsAtCompany</th>\n",
       "      <th>YearsInCurrentRole</th>\n",
       "      <th>YearsSinceLastPromotion</th>\n",
       "      <th>YearsWithCurrManager</th>\n",
       "    </tr>\n",
       "  </thead>\n",
       "  <tbody>\n",
       "    <tr>\n",
       "      <th>count</th>\n",
       "      <td>2940.000000</td>\n",
       "      <td>2940.000000</td>\n",
       "      <td>2940.000000</td>\n",
       "      <td>2940.000000</td>\n",
       "      <td>2940.000000</td>\n",
       "      <td>2940.0</td>\n",
       "      <td>2940.000000</td>\n",
       "      <td>2940.000000</td>\n",
       "      <td>2940.000000</td>\n",
       "      <td>2940.000000</td>\n",
       "      <td>...</td>\n",
       "      <td>2940.000000</td>\n",
       "      <td>2940.0</td>\n",
       "      <td>2940.000000</td>\n",
       "      <td>2940.000000</td>\n",
       "      <td>2940.000000</td>\n",
       "      <td>2940.000000</td>\n",
       "      <td>2940.000000</td>\n",
       "      <td>2940.000000</td>\n",
       "      <td>2940.000000</td>\n",
       "      <td>2940.000000</td>\n",
       "    </tr>\n",
       "    <tr>\n",
       "      <th>mean</th>\n",
       "      <td>36.923810</td>\n",
       "      <td>0.161224</td>\n",
       "      <td>802.485714</td>\n",
       "      <td>9.192517</td>\n",
       "      <td>2.912925</td>\n",
       "      <td>1.0</td>\n",
       "      <td>1470.500000</td>\n",
       "      <td>2.721769</td>\n",
       "      <td>65.891156</td>\n",
       "      <td>2.729932</td>\n",
       "      <td>...</td>\n",
       "      <td>2.712245</td>\n",
       "      <td>80.0</td>\n",
       "      <td>0.793878</td>\n",
       "      <td>11.279592</td>\n",
       "      <td>2.799320</td>\n",
       "      <td>2.761224</td>\n",
       "      <td>7.008163</td>\n",
       "      <td>4.229252</td>\n",
       "      <td>2.187755</td>\n",
       "      <td>4.123129</td>\n",
       "    </tr>\n",
       "    <tr>\n",
       "      <th>std</th>\n",
       "      <td>9.133819</td>\n",
       "      <td>0.367800</td>\n",
       "      <td>403.440447</td>\n",
       "      <td>8.105485</td>\n",
       "      <td>1.023991</td>\n",
       "      <td>0.0</td>\n",
       "      <td>848.849221</td>\n",
       "      <td>1.092896</td>\n",
       "      <td>20.325969</td>\n",
       "      <td>0.711440</td>\n",
       "      <td>...</td>\n",
       "      <td>1.081025</td>\n",
       "      <td>0.0</td>\n",
       "      <td>0.851932</td>\n",
       "      <td>7.779458</td>\n",
       "      <td>1.289051</td>\n",
       "      <td>0.706356</td>\n",
       "      <td>6.125483</td>\n",
       "      <td>3.622521</td>\n",
       "      <td>3.221882</td>\n",
       "      <td>3.567529</td>\n",
       "    </tr>\n",
       "    <tr>\n",
       "      <th>min</th>\n",
       "      <td>18.000000</td>\n",
       "      <td>0.000000</td>\n",
       "      <td>102.000000</td>\n",
       "      <td>1.000000</td>\n",
       "      <td>1.000000</td>\n",
       "      <td>1.0</td>\n",
       "      <td>1.000000</td>\n",
       "      <td>1.000000</td>\n",
       "      <td>30.000000</td>\n",
       "      <td>1.000000</td>\n",
       "      <td>...</td>\n",
       "      <td>1.000000</td>\n",
       "      <td>80.0</td>\n",
       "      <td>0.000000</td>\n",
       "      <td>0.000000</td>\n",
       "      <td>0.000000</td>\n",
       "      <td>1.000000</td>\n",
       "      <td>0.000000</td>\n",
       "      <td>0.000000</td>\n",
       "      <td>0.000000</td>\n",
       "      <td>0.000000</td>\n",
       "    </tr>\n",
       "    <tr>\n",
       "      <th>25%</th>\n",
       "      <td>30.000000</td>\n",
       "      <td>0.000000</td>\n",
       "      <td>465.000000</td>\n",
       "      <td>2.000000</td>\n",
       "      <td>2.000000</td>\n",
       "      <td>1.0</td>\n",
       "      <td>735.750000</td>\n",
       "      <td>2.000000</td>\n",
       "      <td>48.000000</td>\n",
       "      <td>2.000000</td>\n",
       "      <td>...</td>\n",
       "      <td>2.000000</td>\n",
       "      <td>80.0</td>\n",
       "      <td>0.000000</td>\n",
       "      <td>6.000000</td>\n",
       "      <td>2.000000</td>\n",
       "      <td>2.000000</td>\n",
       "      <td>3.000000</td>\n",
       "      <td>2.000000</td>\n",
       "      <td>0.000000</td>\n",
       "      <td>2.000000</td>\n",
       "    </tr>\n",
       "    <tr>\n",
       "      <th>50%</th>\n",
       "      <td>36.000000</td>\n",
       "      <td>0.000000</td>\n",
       "      <td>802.000000</td>\n",
       "      <td>7.000000</td>\n",
       "      <td>3.000000</td>\n",
       "      <td>1.0</td>\n",
       "      <td>1470.500000</td>\n",
       "      <td>3.000000</td>\n",
       "      <td>66.000000</td>\n",
       "      <td>3.000000</td>\n",
       "      <td>...</td>\n",
       "      <td>3.000000</td>\n",
       "      <td>80.0</td>\n",
       "      <td>1.000000</td>\n",
       "      <td>10.000000</td>\n",
       "      <td>3.000000</td>\n",
       "      <td>3.000000</td>\n",
       "      <td>5.000000</td>\n",
       "      <td>3.000000</td>\n",
       "      <td>1.000000</td>\n",
       "      <td>3.000000</td>\n",
       "    </tr>\n",
       "    <tr>\n",
       "      <th>75%</th>\n",
       "      <td>43.000000</td>\n",
       "      <td>0.000000</td>\n",
       "      <td>1157.000000</td>\n",
       "      <td>14.000000</td>\n",
       "      <td>4.000000</td>\n",
       "      <td>1.0</td>\n",
       "      <td>2205.250000</td>\n",
       "      <td>4.000000</td>\n",
       "      <td>84.000000</td>\n",
       "      <td>3.000000</td>\n",
       "      <td>...</td>\n",
       "      <td>4.000000</td>\n",
       "      <td>80.0</td>\n",
       "      <td>1.000000</td>\n",
       "      <td>15.000000</td>\n",
       "      <td>3.000000</td>\n",
       "      <td>3.000000</td>\n",
       "      <td>9.000000</td>\n",
       "      <td>7.000000</td>\n",
       "      <td>3.000000</td>\n",
       "      <td>7.000000</td>\n",
       "    </tr>\n",
       "    <tr>\n",
       "      <th>max</th>\n",
       "      <td>60.000000</td>\n",
       "      <td>1.000000</td>\n",
       "      <td>1499.000000</td>\n",
       "      <td>29.000000</td>\n",
       "      <td>5.000000</td>\n",
       "      <td>1.0</td>\n",
       "      <td>2940.000000</td>\n",
       "      <td>4.000000</td>\n",
       "      <td>100.000000</td>\n",
       "      <td>4.000000</td>\n",
       "      <td>...</td>\n",
       "      <td>4.000000</td>\n",
       "      <td>80.0</td>\n",
       "      <td>3.000000</td>\n",
       "      <td>40.000000</td>\n",
       "      <td>6.000000</td>\n",
       "      <td>4.000000</td>\n",
       "      <td>40.000000</td>\n",
       "      <td>18.000000</td>\n",
       "      <td>15.000000</td>\n",
       "      <td>17.000000</td>\n",
       "    </tr>\n",
       "  </tbody>\n",
       "</table>\n",
       "<p>8 rows × 27 columns</p>\n",
       "</div>"
      ],
      "text/plain": [
       "               Age    Attrition    DailyRate  DistanceFromHome    Education  \\\n",
       "count  2940.000000  2940.000000  2940.000000       2940.000000  2940.000000   \n",
       "mean     36.923810     0.161224   802.485714          9.192517     2.912925   \n",
       "std       9.133819     0.367800   403.440447          8.105485     1.023991   \n",
       "min      18.000000     0.000000   102.000000          1.000000     1.000000   \n",
       "25%      30.000000     0.000000   465.000000          2.000000     2.000000   \n",
       "50%      36.000000     0.000000   802.000000          7.000000     3.000000   \n",
       "75%      43.000000     0.000000  1157.000000         14.000000     4.000000   \n",
       "max      60.000000     1.000000  1499.000000         29.000000     5.000000   \n",
       "\n",
       "       EmployeeCount  EmployeeNumber  EnvironmentSatisfaction   HourlyRate  \\\n",
       "count         2940.0     2940.000000              2940.000000  2940.000000   \n",
       "mean             1.0     1470.500000                 2.721769    65.891156   \n",
       "std              0.0      848.849221                 1.092896    20.325969   \n",
       "min              1.0        1.000000                 1.000000    30.000000   \n",
       "25%              1.0      735.750000                 2.000000    48.000000   \n",
       "50%              1.0     1470.500000                 3.000000    66.000000   \n",
       "75%              1.0     2205.250000                 4.000000    84.000000   \n",
       "max              1.0     2940.000000                 4.000000   100.000000   \n",
       "\n",
       "       JobInvolvement  ...  RelationshipSatisfaction  StandardHours  \\\n",
       "count     2940.000000  ...               2940.000000         2940.0   \n",
       "mean         2.729932  ...                  2.712245           80.0   \n",
       "std          0.711440  ...                  1.081025            0.0   \n",
       "min          1.000000  ...                  1.000000           80.0   \n",
       "25%          2.000000  ...                  2.000000           80.0   \n",
       "50%          3.000000  ...                  3.000000           80.0   \n",
       "75%          3.000000  ...                  4.000000           80.0   \n",
       "max          4.000000  ...                  4.000000           80.0   \n",
       "\n",
       "       StockOptionLevel  TotalWorkingYears  TrainingTimesLastYear  \\\n",
       "count       2940.000000        2940.000000            2940.000000   \n",
       "mean           0.793878          11.279592               2.799320   \n",
       "std            0.851932           7.779458               1.289051   \n",
       "min            0.000000           0.000000               0.000000   \n",
       "25%            0.000000           6.000000               2.000000   \n",
       "50%            1.000000          10.000000               3.000000   \n",
       "75%            1.000000          15.000000               3.000000   \n",
       "max            3.000000          40.000000               6.000000   \n",
       "\n",
       "       WorkLifeBalance  YearsAtCompany  YearsInCurrentRole  \\\n",
       "count      2940.000000     2940.000000         2940.000000   \n",
       "mean          2.761224        7.008163            4.229252   \n",
       "std           0.706356        6.125483            3.622521   \n",
       "min           1.000000        0.000000            0.000000   \n",
       "25%           2.000000        3.000000            2.000000   \n",
       "50%           3.000000        5.000000            3.000000   \n",
       "75%           3.000000        9.000000            7.000000   \n",
       "max           4.000000       40.000000           18.000000   \n",
       "\n",
       "       YearsSinceLastPromotion  YearsWithCurrManager  \n",
       "count              2940.000000           2940.000000  \n",
       "mean                  2.187755              4.123129  \n",
       "std                   3.221882              3.567529  \n",
       "min                   0.000000              0.000000  \n",
       "25%                   0.000000              2.000000  \n",
       "50%                   1.000000              3.000000  \n",
       "75%                   3.000000              7.000000  \n",
       "max                  15.000000             17.000000  \n",
       "\n",
       "[8 rows x 27 columns]"
      ]
     },
     "execution_count": 42,
     "metadata": {},
     "output_type": "execute_result"
    }
   ],
   "source": [
    "attr_df.describe()"
   ]
  },
  {
   "cell_type": "code",
   "execution_count": 43,
   "id": "preliminary-newsletter",
   "metadata": {},
   "outputs": [],
   "source": [
    "attr_df.drop(['EmployeeCount','EmployeeNumber'], axis=1, inplace=True)"
   ]
  },
  {
   "cell_type": "code",
   "execution_count": 44,
   "id": "french-value",
   "metadata": {},
   "outputs": [
    {
     "data": {
      "text/plain": [
       "0.16122448979591836"
      ]
     },
     "execution_count": 44,
     "metadata": {},
     "output_type": "execute_result"
    }
   ],
   "source": [
    "attr_df['Attrition'].sum()/2940"
   ]
  },
  {
   "cell_type": "code",
   "execution_count": 45,
   "id": "realistic-dispatch",
   "metadata": {
    "scrolled": true
   },
   "outputs": [
    {
     "data": {
      "text/plain": [
       "0    0.838776\n",
       "1    0.161224\n",
       "Name: Attrition, dtype: float64"
      ]
     },
     "execution_count": 45,
     "metadata": {},
     "output_type": "execute_result"
    }
   ],
   "source": [
    "attr_df.Attrition.value_counts(normalize=True)"
   ]
  },
  {
   "cell_type": "code",
   "execution_count": 46,
   "id": "scenic-naples",
   "metadata": {},
   "outputs": [],
   "source": [
    "# plt.figure(figsize=(15,20))\n",
    "# sns.boxplot(data=attr_df, orient='h')"
   ]
  },
  {
   "cell_type": "code",
   "execution_count": 47,
   "id": "primary-jason",
   "metadata": {},
   "outputs": [
    {
     "data": {
      "text/plain": [
       "<AxesSubplot:>"
      ]
     },
     "execution_count": 47,
     "metadata": {},
     "output_type": "execute_result"
    },
    {
     "data": {
      "image/png": "[encoded data removed]",
      "text/plain": [
       "<Figure size 432x288 with 1 Axes>"
      ]
     },
     "metadata": {
      "needs_background": "light"
     },
     "output_type": "display_data"
    }
   ],
   "source": [
    "attr_df[['DailyRate','PercentSalaryHike','StandardHours','MonthlyRate']].boxplot(vert=0)"
   ]
  },
  {
   "cell_type": "code",
   "execution_count": 48,
   "id": "included-olympus",
   "metadata": {},
   "outputs": [
    {
     "data": {
      "text/plain": [
       "<AxesSubplot:>"
      ]
     },
     "execution_count": 48,
     "metadata": {},
     "output_type": "execute_result"
    },
    {
     "data": {
      "image/png": "[encoded data removed]",
      "text/plain": [
       "<Figure size 432x288 with 1 Axes>"
      ]
     },
     "metadata": {
      "needs_background": "light"
     },
     "output_type": "display_data"
    }
   ],
   "source": [
    "attr_df[['MonthlyRate','MonthlyIncome']].boxplot(vert=0)"
   ]
  },
  {
   "cell_type": "code",
   "execution_count": 49,
   "id": "fallen-leave",
   "metadata": {},
   "outputs": [
    {
     "data": {
      "text/plain": [
       "<AxesSubplot:>"
      ]
     },
     "execution_count": 49,
     "metadata": {},
     "output_type": "execute_result"
    },
    {
     "data": {
      "image/png": "[encoded data removed]",
      "text/plain": [
       "<Figure size 432x288 with 1 Axes>"
      ]
     },
     "metadata": {
      "needs_background": "light"
     },
     "output_type": "display_data"
    }
   ],
   "source": [
    "attr_df[['TotalWorkingYears','YearsAtCompany']].boxplot(vert=0)"
   ]
  },
  {
   "cell_type": "code",
   "execution_count": 50,
   "id": "isolated-nickname",
   "metadata": {},
   "outputs": [],
   "source": [
    "from sklearn.model_selection import train_test_split\n",
    "# Extract x & y\n",
    "\n",
    "x = attr_df.drop(['Attrition'], axis=1)\n",
    "y = attr_df.pop('Attrition')"
   ]
  },
  {
   "cell_type": "code",
   "execution_count": 51,
   "id": "equivalent-stake",
   "metadata": {},
   "outputs": [],
   "source": [
    "#split data into 70% training and 30% test data\n",
    "x_train, x_test, train_labels, test_labels = train_test_split(x,y, test_size=0.30, random_state=1)"
   ]
  },
  {
   "cell_type": "code",
   "execution_count": 52,
   "id": "gross-commonwealth",
   "metadata": {},
   "outputs": [
    {
     "name": "stdout",
     "output_type": "stream",
     "text": [
      "(2058, 24)\n",
      "(882, 24)\n",
      "(2058,)\n",
      "(882,)\n"
     ]
    }
   ],
   "source": [
    "print(x_train.shape)\n",
    "print(x_test.shape)\n",
    "print(train_labels.shape)\n",
    "print(test_labels.shape)"
   ]
  },
  {
   "cell_type": "code",
   "execution_count": 53,
   "id": "sticky-motor",
   "metadata": {},
   "outputs": [],
   "source": [
    "# Decision Tree Classifier"
   ]
  },
  {
   "cell_type": "code",
   "execution_count": 54,
   "id": "driving-stone",
   "metadata": {},
   "outputs": [],
   "source": [
    "dt_model = DecisionTreeClassifier(criterion='gini')"
   ]
  },
  {
   "cell_type": "code",
   "execution_count": 55,
   "id": "blessed-administration",
   "metadata": {},
   "outputs": [
    {
     "data": {
      "text/plain": [
       "DecisionTreeClassifier()"
      ]
     },
     "execution_count": 55,
     "metadata": {},
     "output_type": "execute_result"
    }
   ],
   "source": [
    "dt_model.fit(x_train, train_labels)"
   ]
  },
  {
   "cell_type": "code",
   "execution_count": 56,
   "id": "particular-nurse",
   "metadata": {},
   "outputs": [],
   "source": [
    "from sklearn import tree"
   ]
  },
  {
   "cell_type": "code",
   "execution_count": 57,
   "id": "sensitive-southeast",
   "metadata": {},
   "outputs": [],
   "source": [
    "train_char_label = ['No','Yes']\n",
    "HR_Tree_File = open('hr_tree.dot','w')\n",
    "dot_data = tree.export_graphviz(dt_model, \n",
    "                                out_file=HR_Tree_File,\n",
    "                                feature_names=list(x_train), \n",
    "                                class_names=list(train_char_label))\n",
    "\n",
    "HR_Tree_File.close()"
   ]
  },
  {
   "cell_type": "code",
   "execution_count": 58,
   "id": "addressed-tomato",
   "metadata": {},
   "outputs": [],
   "source": [
    "from sklearn.model_selection import GridSearchCV"
   ]
  },
  {
   "cell_type": "code",
   "execution_count": 59,
   "id": "early-chess",
   "metadata": {},
   "outputs": [],
   "source": [
    "# 1st Option\n",
    "param_grid = {\n",
    "    'max_depth': [5,6,7,8,9,10,11,12],\n",
    "    'min_samples_leaf': [15,20,25,30],\n",
    "    'min_samples_split': [50,60,75,90]\n",
    "}"
   ]
  },
  {
   "cell_type": "code",
   "execution_count": 60,
   "id": "laden-florist",
   "metadata": {},
   "outputs": [],
   "source": [
    "dt_model = DecisionTreeClassifier()"
   ]
  },
  {
   "cell_type": "code",
   "execution_count": 61,
   "id": "progressive-essence",
   "metadata": {},
   "outputs": [],
   "source": [
    "grid_search = GridSearchCV(estimator=dt_model, param_grid = param_grid, cv=3)"
   ]
  },
  {
   "cell_type": "code",
   "execution_count": 62,
   "id": "awful-sacramento",
   "metadata": {},
   "outputs": [
    {
     "data": {
      "text/plain": [
       "GridSearchCV(cv=3, estimator=DecisionTreeClassifier(),\n",
       "             param_grid={'max_depth': [5, 6, 7, 8, 9, 10, 11, 12],\n",
       "                         'min_samples_leaf': [15, 20, 25, 30],\n",
       "                         'min_samples_split': [50, 60, 75, 90]})"
      ]
     },
     "execution_count": 62,
     "metadata": {},
     "output_type": "execute_result"
    }
   ],
   "source": [
    "grid_search.fit(x_train, train_labels)"
   ]
  },
  {
   "cell_type": "code",
   "execution_count": 63,
   "id": "fuzzy-dutch",
   "metadata": {},
   "outputs": [
    {
     "data": {
      "text/plain": [
       "{'max_depth': 6, 'min_samples_leaf': 20, 'min_samples_split': 50}"
      ]
     },
     "execution_count": 63,
     "metadata": {},
     "output_type": "execute_result"
    }
   ],
   "source": [
    "grid_search.best_params_"
   ]
  },
  {
   "cell_type": "code",
   "execution_count": 64,
   "id": "objective-bride",
   "metadata": {},
   "outputs": [],
   "source": [
    "best_grid = grid_search.best_estimator_"
   ]
  },
  {
   "cell_type": "code",
   "execution_count": 65,
   "id": "perfect-banking",
   "metadata": {},
   "outputs": [],
   "source": [
    "ytrain_predict = best_grid.predict(x_train)"
   ]
  },
  {
   "cell_type": "code",
   "execution_count": 66,
   "id": "injured-crawford",
   "metadata": {},
   "outputs": [],
   "source": [
    "ytest_predict = best_grid.predict(x_test)"
   ]
  },
  {
   "cell_type": "code",
   "execution_count": 67,
   "id": "coastal-merchant",
   "metadata": {},
   "outputs": [],
   "source": [
    "from sklearn.metrics import classification_report\n",
    "# 1stway: to provide more parameters in param_grid to determine best combination"
   ]
  },
  {
   "cell_type": "code",
   "execution_count": 68,
   "id": "velvet-rocket",
   "metadata": {},
   "outputs": [
    {
     "name": "stdout",
     "output_type": "stream",
     "text": [
      "              precision    recall  f1-score   support\n",
      "\n",
      "           0       0.88      0.97      0.93      1737\n",
      "           1       0.67      0.30      0.41       321\n",
      "\n",
      "    accuracy                           0.87      2058\n",
      "   macro avg       0.78      0.63      0.67      2058\n",
      "weighted avg       0.85      0.87      0.85      2058\n",
      "\n"
     ]
    }
   ],
   "source": [
    "print(classification_report(train_labels, ytrain_predict))"
   ]
  },
  {
   "cell_type": "code",
   "execution_count": 69,
   "id": "prospective-commissioner",
   "metadata": {},
   "outputs": [
    {
     "name": "stdout",
     "output_type": "stream",
     "text": [
      "              precision    recall  f1-score   support\n",
      "\n",
      "           0       0.85      0.96      0.90       729\n",
      "           1       0.53      0.20      0.29       153\n",
      "\n",
      "    accuracy                           0.83       882\n",
      "   macro avg       0.69      0.58      0.60       882\n",
      "weighted avg       0.80      0.83      0.80       882\n",
      "\n"
     ]
    }
   ],
   "source": [
    "print(classification_report(test_labels, ytest_predict))"
   ]
  },
  {
   "cell_type": "code",
   "execution_count": 70,
   "id": "variable-privacy",
   "metadata": {},
   "outputs": [],
   "source": [
    "# 2nd Option\n",
    "ytrain_predict_score = best_grid.predict_proba(x_train)\n",
    "ytest_predict_score = best_grid.predict_proba(x_test)"
   ]
  },
  {
   "cell_type": "code",
   "execution_count": 71,
   "id": "smoking-lender",
   "metadata": {},
   "outputs": [
    {
     "data": {
      "text/plain": [
       "array([0.        , 0.0035461 , 0.0952381 , ..., 0.06590258, 0.0035461 ,\n",
       "       0.13953488])"
      ]
     },
     "execution_count": 71,
     "metadata": {},
     "output_type": "execute_result"
    }
   ],
   "source": [
    "ytrain_predict_score[:,1]"
   ]
  },
  {
   "cell_type": "code",
   "execution_count": 72,
   "id": "alike-infection",
   "metadata": {},
   "outputs": [],
   "source": [
    "# RF Classifier"
   ]
  },
  {
   "cell_type": "code",
   "execution_count": 73,
   "id": "legislative-intake",
   "metadata": {},
   "outputs": [],
   "source": [
    "param_grid = {\n",
    "    'max_depth': [5,6,7],\n",
    "    'max_features': [6,10, 14],\n",
    "    'min_samples_leaf': [10,15,20],\n",
    "    'min_samples_split': [30,40,50],\n",
    "    'n_estimators': [201,301,401]\n",
    "}\n",
    "rfcl = RandomForestClassifier()\n",
    "grid_search = GridSearchCV(estimator=rfcl, param_grid=param_grid, cv=3)"
   ]
  },
  {
   "cell_type": "code",
   "execution_count": 74,
   "id": "charged-gamma",
   "metadata": {},
   "outputs": [
    {
     "data": {
      "text/plain": [
       "GridSearchCV(cv=3, estimator=RandomForestClassifier(),\n",
       "             param_grid={'max_depth': [5, 6, 7], 'max_features': [6, 10, 14],\n",
       "                         'min_samples_leaf': [10, 15, 20],\n",
       "                         'min_samples_split': [30, 40, 50],\n",
       "                         'n_estimators': [201, 301, 401]})"
      ]
     },
     "execution_count": 74,
     "metadata": {},
     "output_type": "execute_result"
    }
   ],
   "source": [
    "grid_search.fit(x_train, train_labels)"
   ]
  },
  {
   "cell_type": "code",
   "execution_count": 75,
   "id": "going-accordance",
   "metadata": {},
   "outputs": [
    {
     "data": {
      "text/plain": [
       "{'max_depth': 7,\n",
       " 'max_features': 14,\n",
       " 'min_samples_leaf': 10,\n",
       " 'min_samples_split': 30,\n",
       " 'n_estimators': 201}"
      ]
     },
     "execution_count": 75,
     "metadata": {},
     "output_type": "execute_result"
    }
   ],
   "source": [
    "grid_search.best_params_"
   ]
  },
  {
   "cell_type": "code",
   "execution_count": 76,
   "id": "foster-deficit",
   "metadata": {},
   "outputs": [
    {
     "data": {
      "text/plain": [
       "RandomForestClassifier(max_depth=7, max_features=14, min_samples_leaf=10,\n",
       "                       min_samples_split=30, n_estimators=201)"
      ]
     },
     "execution_count": 76,
     "metadata": {},
     "output_type": "execute_result"
    }
   ],
   "source": [
    "grid_search.best_estimator_"
   ]
  },
  {
   "cell_type": "code",
   "execution_count": 77,
   "id": "advisory-sheet",
   "metadata": {},
   "outputs": [],
   "source": [
    "ytrain_predict = best_grid.predict(x_train)\n",
    "ytest_predict = best_grid.predict(x_test)"
   ]
  },
  {
   "cell_type": "code",
   "execution_count": 274,
   "id": "protective-lending",
   "metadata": {},
   "outputs": [
    {
     "name": "stdout",
     "output_type": "stream",
     "text": [
      "              precision    recall  f1-score   support\n",
      "\n",
      "           0       0.84      1.00      0.92      1737\n",
      "           1       0.00      0.00      0.00       321\n",
      "\n",
      "    accuracy                           0.84      2058\n",
      "   macro avg       0.42      0.50      0.46      2058\n",
      "weighted avg       0.71      0.84      0.77      2058\n",
      "\n"
     ]
    },
    {
     "name": "stderr",
     "output_type": "stream",
     "text": [
      "C:\\Users\\guptap6\\Anaconda3\\lib\\site-packages\\sklearn\\metrics\\_classification.py:1245: UndefinedMetricWarning: Precision and F-score are ill-defined and being set to 0.0 in labels with no predicted samples. Use `zero_division` parameter to control this behavior.\n",
      "  _warn_prf(average, modifier, msg_start, len(result))\n",
      "C:\\Users\\guptap6\\Anaconda3\\lib\\site-packages\\sklearn\\metrics\\_classification.py:1245: UndefinedMetricWarning: Precision and F-score are ill-defined and being set to 0.0 in labels with no predicted samples. Use `zero_division` parameter to control this behavior.\n",
      "  _warn_prf(average, modifier, msg_start, len(result))\n",
      "C:\\Users\\guptap6\\Anaconda3\\lib\\site-packages\\sklearn\\metrics\\_classification.py:1245: UndefinedMetricWarning: Precision and F-score are ill-defined and being set to 0.0 in labels with no predicted samples. Use `zero_division` parameter to control this behavior.\n",
      "  _warn_prf(average, modifier, msg_start, len(result))\n"
     ]
    }
   ],
   "source": [
    "print(classification_report(train_labels, ytrain_predict))"
   ]
  },
  {
   "cell_type": "code",
   "execution_count": 275,
   "id": "meaningful-opposition",
   "metadata": {},
   "outputs": [
    {
     "name": "stdout",
     "output_type": "stream",
     "text": [
      "              precision    recall  f1-score   support\n",
      "\n",
      "           0       0.83      1.00      0.91       729\n",
      "           1       0.00      0.00      0.00       153\n",
      "\n",
      "    accuracy                           0.83       882\n",
      "   macro avg       0.41      0.50      0.45       882\n",
      "weighted avg       0.68      0.83      0.75       882\n",
      "\n"
     ]
    },
    {
     "name": "stderr",
     "output_type": "stream",
     "text": [
      "C:\\Users\\guptap6\\Anaconda3\\lib\\site-packages\\sklearn\\metrics\\_classification.py:1245: UndefinedMetricWarning: Precision and F-score are ill-defined and being set to 0.0 in labels with no predicted samples. Use `zero_division` parameter to control this behavior.\n",
      "  _warn_prf(average, modifier, msg_start, len(result))\n",
      "C:\\Users\\guptap6\\Anaconda3\\lib\\site-packages\\sklearn\\metrics\\_classification.py:1245: UndefinedMetricWarning: Precision and F-score are ill-defined and being set to 0.0 in labels with no predicted samples. Use `zero_division` parameter to control this behavior.\n",
      "  _warn_prf(average, modifier, msg_start, len(result))\n",
      "C:\\Users\\guptap6\\Anaconda3\\lib\\site-packages\\sklearn\\metrics\\_classification.py:1245: UndefinedMetricWarning: Precision and F-score are ill-defined and being set to 0.0 in labels with no predicted samples. Use `zero_division` parameter to control this behavior.\n",
      "  _warn_prf(average, modifier, msg_start, len(result))\n"
     ]
    }
   ],
   "source": [
    "print(classification_report(test_labels, ytest_predict))"
   ]
  },
  {
   "cell_type": "code",
   "execution_count": 276,
   "id": "unlikely-balloon",
   "metadata": {},
   "outputs": [],
   "source": [
    "# MLP Classifier"
   ]
  },
  {
   "cell_type": "code",
   "execution_count": 256,
   "id": "numeric-allergy",
   "metadata": {},
   "outputs": [],
   "source": [
    "# Scaling variables\n",
    "from sklearn.preprocessing import StandardScaler"
   ]
  },
  {
   "cell_type": "code",
   "execution_count": 257,
   "id": "continuing-indicator",
   "metadata": {},
   "outputs": [],
   "source": [
    "sc = StandardScaler()\n",
    "x_trains = sc. fit_transform(x_train)"
   ]
  },
  {
   "cell_type": "code",
   "execution_count": 258,
   "id": "thick-importance",
   "metadata": {},
   "outputs": [],
   "source": [
    "x_tests = sc.transform(x_test)"
   ]
  },
  {
   "cell_type": "code",
   "execution_count": 259,
   "id": "buried-dining",
   "metadata": {},
   "outputs": [
    {
     "data": {
      "text/plain": [
       "array([[ 1.75904517,  1.04289644, -0.27238444, ...,  0.76397248,\n",
       "         0.56720724,  0.82525338],\n",
       "       [ 0.2198339 , -1.64621765, -0.76671175, ..., -0.33955822,\n",
       "         0.25683434,  0.54043509],\n",
       "       [-0.10999708, -0.5899575 ,  1.08701567, ..., -1.16720624,\n",
       "        -0.67428439, -1.16847464],\n",
       "       ...,\n",
       "       [ 0.32977756,  0.23516808, -0.39596627, ...,  0.76397248,\n",
       "         1.49832597,  0.82525338],\n",
       "       [ 0.65960855,  0.57317133,  0.83985201, ...,  2.41926852,\n",
       "        -0.36391148,  1.39488995],\n",
       "       [-1.42932103,  0.06616646,  0.46910653, ..., -1.16720624,\n",
       "        -0.67428439, -1.16847464]])"
      ]
     },
     "execution_count": 259,
     "metadata": {},
     "output_type": "execute_result"
    }
   ],
   "source": [
    "x_trains"
   ]
  },
  {
   "cell_type": "code",
   "execution_count": 260,
   "id": "dominant-slovak",
   "metadata": {},
   "outputs": [
    {
     "data": {
      "text/html": [
       "<div>\n",
       "<style scoped>\n",
       "    .dataframe tbody tr th:only-of-type {\n",
       "        vertical-align: middle;\n",
       "    }\n",
       "\n",
       "    .dataframe tbody tr th {\n",
       "        vertical-align: top;\n",
       "    }\n",
       "\n",
       "    .dataframe thead th {\n",
       "        text-align: right;\n",
       "    }\n",
       "</style>\n",
       "<table border=\"1\" class=\"dataframe\">\n",
       "  <thead>\n",
       "    <tr style=\"text-align: right;\">\n",
       "      <th></th>\n",
       "      <th>Age</th>\n",
       "      <th>DailyRate</th>\n",
       "      <th>DistanceFromHome</th>\n",
       "      <th>Education</th>\n",
       "      <th>EnvironmentSatisfaction</th>\n",
       "      <th>HourlyRate</th>\n",
       "      <th>JobInvolvement</th>\n",
       "      <th>JobLevel</th>\n",
       "      <th>JobSatisfaction</th>\n",
       "      <th>MonthlyIncome</th>\n",
       "      <th>...</th>\n",
       "      <th>RelationshipSatisfaction</th>\n",
       "      <th>StandardHours</th>\n",
       "      <th>StockOptionLevel</th>\n",
       "      <th>TotalWorkingYears</th>\n",
       "      <th>TrainingTimesLastYear</th>\n",
       "      <th>WorkLifeBalance</th>\n",
       "      <th>YearsAtCompany</th>\n",
       "      <th>YearsInCurrentRole</th>\n",
       "      <th>YearsSinceLastPromotion</th>\n",
       "      <th>YearsWithCurrManager</th>\n",
       "    </tr>\n",
       "  </thead>\n",
       "  <tbody>\n",
       "    <tr>\n",
       "      <th>858</th>\n",
       "      <td>53</td>\n",
       "      <td>1223</td>\n",
       "      <td>7</td>\n",
       "      <td>2</td>\n",
       "      <td>4</td>\n",
       "      <td>50</td>\n",
       "      <td>3</td>\n",
       "      <td>5</td>\n",
       "      <td>3</td>\n",
       "      <td>18606</td>\n",
       "      <td>...</td>\n",
       "      <td>2</td>\n",
       "      <td>80</td>\n",
       "      <td>1</td>\n",
       "      <td>26</td>\n",
       "      <td>6</td>\n",
       "      <td>3</td>\n",
       "      <td>7</td>\n",
       "      <td>7</td>\n",
       "      <td>4</td>\n",
       "      <td>7</td>\n",
       "    </tr>\n",
       "    <tr>\n",
       "      <th>551</th>\n",
       "      <td>39</td>\n",
       "      <td>141</td>\n",
       "      <td>3</td>\n",
       "      <td>3</td>\n",
       "      <td>3</td>\n",
       "      <td>44</td>\n",
       "      <td>4</td>\n",
       "      <td>2</td>\n",
       "      <td>2</td>\n",
       "      <td>6389</td>\n",
       "      <td>...</td>\n",
       "      <td>3</td>\n",
       "      <td>80</td>\n",
       "      <td>1</td>\n",
       "      <td>12</td>\n",
       "      <td>3</td>\n",
       "      <td>1</td>\n",
       "      <td>8</td>\n",
       "      <td>3</td>\n",
       "      <td>3</td>\n",
       "      <td>6</td>\n",
       "    </tr>\n",
       "    <tr>\n",
       "      <th>1768</th>\n",
       "      <td>36</td>\n",
       "      <td>566</td>\n",
       "      <td>18</td>\n",
       "      <td>4</td>\n",
       "      <td>3</td>\n",
       "      <td>81</td>\n",
       "      <td>4</td>\n",
       "      <td>1</td>\n",
       "      <td>4</td>\n",
       "      <td>3688</td>\n",
       "      <td>...</td>\n",
       "      <td>4</td>\n",
       "      <td>80</td>\n",
       "      <td>2</td>\n",
       "      <td>4</td>\n",
       "      <td>2</td>\n",
       "      <td>3</td>\n",
       "      <td>1</td>\n",
       "      <td>0</td>\n",
       "      <td>0</td>\n",
       "      <td>0</td>\n",
       "    </tr>\n",
       "    <tr>\n",
       "      <th>2830</th>\n",
       "      <td>31</td>\n",
       "      <td>471</td>\n",
       "      <td>4</td>\n",
       "      <td>3</td>\n",
       "      <td>1</td>\n",
       "      <td>62</td>\n",
       "      <td>4</td>\n",
       "      <td>1</td>\n",
       "      <td>3</td>\n",
       "      <td>3978</td>\n",
       "      <td>...</td>\n",
       "      <td>2</td>\n",
       "      <td>80</td>\n",
       "      <td>1</td>\n",
       "      <td>4</td>\n",
       "      <td>0</td>\n",
       "      <td>2</td>\n",
       "      <td>2</td>\n",
       "      <td>2</td>\n",
       "      <td>2</td>\n",
       "      <td>2</td>\n",
       "    </tr>\n",
       "    <tr>\n",
       "      <th>2703</th>\n",
       "      <td>30</td>\n",
       "      <td>793</td>\n",
       "      <td>16</td>\n",
       "      <td>1</td>\n",
       "      <td>2</td>\n",
       "      <td>33</td>\n",
       "      <td>3</td>\n",
       "      <td>1</td>\n",
       "      <td>4</td>\n",
       "      <td>2862</td>\n",
       "      <td>...</td>\n",
       "      <td>2</td>\n",
       "      <td>80</td>\n",
       "      <td>1</td>\n",
       "      <td>10</td>\n",
       "      <td>2</td>\n",
       "      <td>2</td>\n",
       "      <td>10</td>\n",
       "      <td>0</td>\n",
       "      <td>0</td>\n",
       "      <td>8</td>\n",
       "    </tr>\n",
       "    <tr>\n",
       "      <th>...</th>\n",
       "      <td>...</td>\n",
       "      <td>...</td>\n",
       "      <td>...</td>\n",
       "      <td>...</td>\n",
       "      <td>...</td>\n",
       "      <td>...</td>\n",
       "      <td>...</td>\n",
       "      <td>...</td>\n",
       "      <td>...</td>\n",
       "      <td>...</td>\n",
       "      <td>...</td>\n",
       "      <td>...</td>\n",
       "      <td>...</td>\n",
       "      <td>...</td>\n",
       "      <td>...</td>\n",
       "      <td>...</td>\n",
       "      <td>...</td>\n",
       "      <td>...</td>\n",
       "      <td>...</td>\n",
       "      <td>...</td>\n",
       "      <td>...</td>\n",
       "    </tr>\n",
       "    <tr>\n",
       "      <th>2763</th>\n",
       "      <td>43</td>\n",
       "      <td>343</td>\n",
       "      <td>9</td>\n",
       "      <td>3</td>\n",
       "      <td>1</td>\n",
       "      <td>52</td>\n",
       "      <td>3</td>\n",
       "      <td>1</td>\n",
       "      <td>3</td>\n",
       "      <td>2438</td>\n",
       "      <td>...</td>\n",
       "      <td>3</td>\n",
       "      <td>80</td>\n",
       "      <td>0</td>\n",
       "      <td>7</td>\n",
       "      <td>2</td>\n",
       "      <td>2</td>\n",
       "      <td>3</td>\n",
       "      <td>2</td>\n",
       "      <td>1</td>\n",
       "      <td>2</td>\n",
       "    </tr>\n",
       "    <tr>\n",
       "      <th>905</th>\n",
       "      <td>29</td>\n",
       "      <td>694</td>\n",
       "      <td>1</td>\n",
       "      <td>3</td>\n",
       "      <td>4</td>\n",
       "      <td>87</td>\n",
       "      <td>2</td>\n",
       "      <td>4</td>\n",
       "      <td>4</td>\n",
       "      <td>16124</td>\n",
       "      <td>...</td>\n",
       "      <td>2</td>\n",
       "      <td>80</td>\n",
       "      <td>2</td>\n",
       "      <td>9</td>\n",
       "      <td>2</td>\n",
       "      <td>2</td>\n",
       "      <td>7</td>\n",
       "      <td>7</td>\n",
       "      <td>1</td>\n",
       "      <td>7</td>\n",
       "    </tr>\n",
       "    <tr>\n",
       "      <th>1096</th>\n",
       "      <td>40</td>\n",
       "      <td>898</td>\n",
       "      <td>6</td>\n",
       "      <td>2</td>\n",
       "      <td>3</td>\n",
       "      <td>38</td>\n",
       "      <td>3</td>\n",
       "      <td>4</td>\n",
       "      <td>4</td>\n",
       "      <td>16437</td>\n",
       "      <td>...</td>\n",
       "      <td>4</td>\n",
       "      <td>80</td>\n",
       "      <td>0</td>\n",
       "      <td>21</td>\n",
       "      <td>2</td>\n",
       "      <td>3</td>\n",
       "      <td>21</td>\n",
       "      <td>7</td>\n",
       "      <td>7</td>\n",
       "      <td>7</td>\n",
       "    </tr>\n",
       "    <tr>\n",
       "      <th>235</th>\n",
       "      <td>43</td>\n",
       "      <td>1034</td>\n",
       "      <td>16</td>\n",
       "      <td>3</td>\n",
       "      <td>4</td>\n",
       "      <td>80</td>\n",
       "      <td>3</td>\n",
       "      <td>4</td>\n",
       "      <td>4</td>\n",
       "      <td>16064</td>\n",
       "      <td>...</td>\n",
       "      <td>3</td>\n",
       "      <td>80</td>\n",
       "      <td>1</td>\n",
       "      <td>22</td>\n",
       "      <td>3</td>\n",
       "      <td>3</td>\n",
       "      <td>17</td>\n",
       "      <td>13</td>\n",
       "      <td>1</td>\n",
       "      <td>9</td>\n",
       "    </tr>\n",
       "    <tr>\n",
       "      <th>1061</th>\n",
       "      <td>24</td>\n",
       "      <td>830</td>\n",
       "      <td>13</td>\n",
       "      <td>2</td>\n",
       "      <td>4</td>\n",
       "      <td>78</td>\n",
       "      <td>3</td>\n",
       "      <td>1</td>\n",
       "      <td>2</td>\n",
       "      <td>2033</td>\n",
       "      <td>...</td>\n",
       "      <td>3</td>\n",
       "      <td>80</td>\n",
       "      <td>1</td>\n",
       "      <td>1</td>\n",
       "      <td>2</td>\n",
       "      <td>3</td>\n",
       "      <td>1</td>\n",
       "      <td>0</td>\n",
       "      <td>0</td>\n",
       "      <td>0</td>\n",
       "    </tr>\n",
       "  </tbody>\n",
       "</table>\n",
       "<p>2058 rows × 24 columns</p>\n",
       "</div>"
      ],
      "text/plain": [
       "      Age  DailyRate  DistanceFromHome  Education  EnvironmentSatisfaction  \\\n",
       "858    53       1223                 7          2                        4   \n",
       "551    39        141                 3          3                        3   \n",
       "1768   36        566                18          4                        3   \n",
       "2830   31        471                 4          3                        1   \n",
       "2703   30        793                16          1                        2   \n",
       "...   ...        ...               ...        ...                      ...   \n",
       "2763   43        343                 9          3                        1   \n",
       "905    29        694                 1          3                        4   \n",
       "1096   40        898                 6          2                        3   \n",
       "235    43       1034                16          3                        4   \n",
       "1061   24        830                13          2                        4   \n",
       "\n",
       "      HourlyRate  JobInvolvement  JobLevel  JobSatisfaction  MonthlyIncome  \\\n",
       "858           50               3         5                3          18606   \n",
       "551           44               4         2                2           6389   \n",
       "1768          81               4         1                4           3688   \n",
       "2830          62               4         1                3           3978   \n",
       "2703          33               3         1                4           2862   \n",
       "...          ...             ...       ...              ...            ...   \n",
       "2763          52               3         1                3           2438   \n",
       "905           87               2         4                4          16124   \n",
       "1096          38               3         4                4          16437   \n",
       "235           80               3         4                4          16064   \n",
       "1061          78               3         1                2           2033   \n",
       "\n",
       "      ...  RelationshipSatisfaction  StandardHours  StockOptionLevel  \\\n",
       "858   ...                         2             80                 1   \n",
       "551   ...                         3             80                 1   \n",
       "1768  ...                         4             80                 2   \n",
       "2830  ...                         2             80                 1   \n",
       "2703  ...                         2             80                 1   \n",
       "...   ...                       ...            ...               ...   \n",
       "2763  ...                         3             80                 0   \n",
       "905   ...                         2             80                 2   \n",
       "1096  ...                         4             80                 0   \n",
       "235   ...                         3             80                 1   \n",
       "1061  ...                         3             80                 1   \n",
       "\n",
       "      TotalWorkingYears  TrainingTimesLastYear  WorkLifeBalance  \\\n",
       "858                  26                      6                3   \n",
       "551                  12                      3                1   \n",
       "1768                  4                      2                3   \n",
       "2830                  4                      0                2   \n",
       "2703                 10                      2                2   \n",
       "...                 ...                    ...              ...   \n",
       "2763                  7                      2                2   \n",
       "905                   9                      2                2   \n",
       "1096                 21                      2                3   \n",
       "235                  22                      3                3   \n",
       "1061                  1                      2                3   \n",
       "\n",
       "      YearsAtCompany  YearsInCurrentRole  YearsSinceLastPromotion  \\\n",
       "858                7                   7                        4   \n",
       "551                8                   3                        3   \n",
       "1768               1                   0                        0   \n",
       "2830               2                   2                        2   \n",
       "2703              10                   0                        0   \n",
       "...              ...                 ...                      ...   \n",
       "2763               3                   2                        1   \n",
       "905                7                   7                        1   \n",
       "1096              21                   7                        7   \n",
       "235               17                  13                        1   \n",
       "1061               1                   0                        0   \n",
       "\n",
       "      YearsWithCurrManager  \n",
       "858                      7  \n",
       "551                      6  \n",
       "1768                     0  \n",
       "2830                     2  \n",
       "2703                     8  \n",
       "...                    ...  \n",
       "2763                     2  \n",
       "905                      7  \n",
       "1096                     7  \n",
       "235                      9  \n",
       "1061                     0  \n",
       "\n",
       "[2058 rows x 24 columns]"
      ]
     },
     "execution_count": 260,
     "metadata": {},
     "output_type": "execute_result"
    }
   ],
   "source": [
    "x_train"
   ]
  },
  {
   "cell_type": "code",
   "execution_count": 261,
   "id": "frozen-verse",
   "metadata": {},
   "outputs": [],
   "source": [
    "param_grid ={\n",
    "    'hidden_layer_sizes': [(100,100,100)],\n",
    "    'activation': ['logistic', 'relu'],\n",
    "    'solver': ['sgd','adam'],\n",
    "    'tol': [0.1, 0.01],\n",
    "    'max_iter': [100000]\n",
    "}\n",
    "\n",
    "# Building Neural Network Model\n",
    "\n",
    "rfcl = MLPClassifier()\n",
    "grid_search = GridSearchCV(estimator=rfcl, param_grid=param_grid, cv=3)"
   ]
  },
  {
   "cell_type": "code",
   "execution_count": 262,
   "id": "strategic-liabilities",
   "metadata": {},
   "outputs": [
    {
     "data": {
      "text/plain": [
       "GridSearchCV(cv=3, estimator=MLPClassifier(),\n",
       "             param_grid={'activation': ['logistic', 'relu'],\n",
       "                         'hidden_layer_sizes': [(100, 100, 100)],\n",
       "                         'max_iter': [100000], 'solver': ['sgd', 'adam'],\n",
       "                         'tol': [0.1, 0.01]})"
      ]
     },
     "execution_count": 262,
     "metadata": {},
     "output_type": "execute_result"
    }
   ],
   "source": [
    "grid_search.fit(x_train, train_labels)"
   ]
  },
  {
   "cell_type": "code",
   "execution_count": 263,
   "id": "incorrect-guide",
   "metadata": {},
   "outputs": [
    {
     "data": {
      "text/plain": [
       "{'activation': 'logistic',\n",
       " 'hidden_layer_sizes': (100, 100, 100),\n",
       " 'max_iter': 100000,\n",
       " 'solver': 'sgd',\n",
       " 'tol': 0.1}"
      ]
     },
     "execution_count": 263,
     "metadata": {},
     "output_type": "execute_result"
    }
   ],
   "source": [
    "grid_search.best_params_"
   ]
  },
  {
   "cell_type": "code",
   "execution_count": 264,
   "id": "gentle-exercise",
   "metadata": {},
   "outputs": [],
   "source": [
    "best_grid =  grid_search.best_estimator_"
   ]
  },
  {
   "cell_type": "code",
   "execution_count": 265,
   "id": "operational-porter",
   "metadata": {},
   "outputs": [],
   "source": [
    "ytrain_predict = best_grid.predict(x_trains)"
   ]
  },
  {
   "cell_type": "code",
   "execution_count": 266,
   "id": "answering-lobby",
   "metadata": {},
   "outputs": [],
   "source": [
    "ytest_predict =  best_grid.predict(x_test)"
   ]
  },
  {
   "cell_type": "code",
   "execution_count": 267,
   "id": "architectural-deputy",
   "metadata": {},
   "outputs": [
    {
     "name": "stdout",
     "output_type": "stream",
     "text": [
      "              precision    recall  f1-score   support\n",
      "\n",
      "           0       0.84      1.00      0.92      1737\n",
      "           1       0.00      0.00      0.00       321\n",
      "\n",
      "    accuracy                           0.84      2058\n",
      "   macro avg       0.42      0.50      0.46      2058\n",
      "weighted avg       0.71      0.84      0.77      2058\n",
      "\n"
     ]
    },
    {
     "name": "stderr",
     "output_type": "stream",
     "text": [
      "C:\\Users\\guptap6\\Anaconda3\\lib\\site-packages\\sklearn\\metrics\\_classification.py:1245: UndefinedMetricWarning: Precision and F-score are ill-defined and being set to 0.0 in labels with no predicted samples. Use `zero_division` parameter to control this behavior.\n",
      "  _warn_prf(average, modifier, msg_start, len(result))\n",
      "C:\\Users\\guptap6\\Anaconda3\\lib\\site-packages\\sklearn\\metrics\\_classification.py:1245: UndefinedMetricWarning: Precision and F-score are ill-defined and being set to 0.0 in labels with no predicted samples. Use `zero_division` parameter to control this behavior.\n",
      "  _warn_prf(average, modifier, msg_start, len(result))\n",
      "C:\\Users\\guptap6\\Anaconda3\\lib\\site-packages\\sklearn\\metrics\\_classification.py:1245: UndefinedMetricWarning: Precision and F-score are ill-defined and being set to 0.0 in labels with no predicted samples. Use `zero_division` parameter to control this behavior.\n",
      "  _warn_prf(average, modifier, msg_start, len(result))\n"
     ]
    }
   ],
   "source": [
    "print(classification_report(train_labels,ytrain_predict))"
   ]
  },
  {
   "cell_type": "code",
   "execution_count": 268,
   "id": "growing-duplicate",
   "metadata": {},
   "outputs": [
    {
     "name": "stdout",
     "output_type": "stream",
     "text": [
      "              precision    recall  f1-score   support\n",
      "\n",
      "           0       0.83      1.00      0.91       729\n",
      "           1       0.00      0.00      0.00       153\n",
      "\n",
      "    accuracy                           0.83       882\n",
      "   macro avg       0.41      0.50      0.45       882\n",
      "weighted avg       0.68      0.83      0.75       882\n",
      "\n"
     ]
    },
    {
     "name": "stderr",
     "output_type": "stream",
     "text": [
      "C:\\Users\\guptap6\\Anaconda3\\lib\\site-packages\\sklearn\\metrics\\_classification.py:1245: UndefinedMetricWarning: Precision and F-score are ill-defined and being set to 0.0 in labels with no predicted samples. Use `zero_division` parameter to control this behavior.\n",
      "  _warn_prf(average, modifier, msg_start, len(result))\n",
      "C:\\Users\\guptap6\\Anaconda3\\lib\\site-packages\\sklearn\\metrics\\_classification.py:1245: UndefinedMetricWarning: Precision and F-score are ill-defined and being set to 0.0 in labels with no predicted samples. Use `zero_division` parameter to control this behavior.\n",
      "  _warn_prf(average, modifier, msg_start, len(result))\n",
      "C:\\Users\\guptap6\\Anaconda3\\lib\\site-packages\\sklearn\\metrics\\_classification.py:1245: UndefinedMetricWarning: Precision and F-score are ill-defined and being set to 0.0 in labels with no predicted samples. Use `zero_division` parameter to control this behavior.\n",
      "  _warn_prf(average, modifier, msg_start, len(result))\n"
     ]
    }
   ],
   "source": [
    "print(classification_report(test_labels,ytest_predict))"
   ]
  }
 ],
 "metadata": {
  "kernelspec": {
   "display_name": "Python 3",
   "language": "python",
   "name": "python3"
  },
  "language_info": {
   "codemirror_mode": {
    "name": "ipython",
    "version": 3
   },
   "file_extension": ".py",
   "mimetype": "text/x-python",
   "name": "python",
   "nbconvert_exporter": "python",
   "pygments_lexer": "ipython3",
   "version": "3.8.8"
  }
 },
 "nbformat": 4,
 "nbformat_minor": 5
}
